{
 "cells": [
  {
   "cell_type": "markdown",
   "id": "ea841d85-b76f-4224-9e2f-2528ab94d85c",
   "metadata": {},
   "source": [
    "## 객체지향 프로그래밍(OOP)"
   ]
  },
  {
   "cell_type": "markdown",
   "id": "18cce4a3-05a2-43e4-86a6-468dca00e801",
   "metadata": {},
   "source": [
    "- 클래스(class) : 같은 종류의 집단에 속하는 속성과 행위를 정의한 것 \n",
    "- 인스턴스(instance) : 클래스를 실제로 메모리상에 할당한 \n",
    "- 속성(attribute) : 클래스/인스턴스가 가지고 있는 데이터/값\n",
    "- 행위(method) : 클래스/인스턴스가 가지고 있는 함수/기능"
   ]
  },
  {
   "cell_type": "code",
   "execution_count": 1,
   "id": "1314fe3f-a54c-40aa-baa9-1b198583906c",
   "metadata": {},
   "outputs": [],
   "source": [
    "number = 1+ 2j"
   ]
  },
  {
   "cell_type": "code",
   "execution_count": 3,
   "id": "5621b665-489d-4357-a110-5249260c9d7f",
   "metadata": {},
   "outputs": [
    {
     "data": {
      "text/plain": [
       "complex"
      ]
     },
     "execution_count": 3,
     "metadata": {},
     "output_type": "execute_result"
    }
   ],
   "source": [
    "type(number) #복소수"
   ]
  },
  {
   "cell_type": "code",
   "execution_count": 6,
   "id": "892ab0b3-843d-4d36-a7a6-aa0e1d3f5c6b",
   "metadata": {},
   "outputs": [
    {
     "name": "stdout",
     "output_type": "stream",
     "text": [
      "1.0\n",
      "2.0\n"
     ]
    }
   ],
   "source": [
    "print(number.real) #실수\n",
    "print(number.imag) #허수"
   ]
  },
  {
   "cell_type": "code",
   "execution_count": 7,
   "id": "a3a207a0-4f30-4529-a4b3-f1426e35b0ec",
   "metadata": {},
   "outputs": [],
   "source": [
    "#파이썬은 모두 객체이다. "
   ]
  },
  {
   "cell_type": "code",
   "execution_count": 8,
   "id": "331f6ba9-d122-4789-86fe-66168bd90af5",
   "metadata": {},
   "outputs": [],
   "source": [
    "numbers = [1, 2, 3]"
   ]
  },
  {
   "cell_type": "code",
   "execution_count": 9,
   "id": "71fba9d9-05be-4a5b-ac1f-c027d4dd11b5",
   "metadata": {},
   "outputs": [
    {
     "data": {
      "text/plain": [
       "list"
      ]
     },
     "execution_count": 9,
     "metadata": {},
     "output_type": "execute_result"
    }
   ],
   "source": [
    "type(numbers)"
   ]
  },
  {
   "cell_type": "code",
   "execution_count": 10,
   "id": "efc2ec0f-900e-4e49-ad63-174c931b02e1",
   "metadata": {},
   "outputs": [
    {
     "name": "stdout",
     "output_type": "stream",
     "text": [
      "[3, 2, 1]\n"
     ]
    }
   ],
   "source": [
    "numbers.reverse()\n",
    "print(numbers)"
   ]
  },
  {
   "cell_type": "code",
   "execution_count": 12,
   "id": "cfd87f78-a70e-408a-95a4-9ebcfb740e4a",
   "metadata": {},
   "outputs": [
    {
     "name": "stdout",
     "output_type": "stream",
     "text": [
      "010-1234-5678에서 010-456-456로 전화거는 중\n"
     ]
    }
   ],
   "source": [
    "power = False\n",
    "number = '010-1234-5678'\n",
    "book = {\n",
    "    'kim': '010-456-456',\n",
    "    'park': '010-321-321',\n",
    "}\n",
    "def call(from_number, to_number):\n",
    "    print(f'{from_number}에서 {to_number}로 전화거는 중')\n",
    "call(number, book['kim'])"
   ]
  },
  {
   "cell_type": "markdown",
   "id": "bb40afc3-b165-410a-af68-c69aa857dace",
   "metadata": {},
   "source": [
    "## class\n",
    "\n",
    "- 클래스 선언 \n",
    "```python\n",
    "class ClassName():\n",
    "    attribute1 = value1\n",
    "    attribute = value2\n",
    "    ...\n",
    "    \n",
    "    def method_name1(self):\n",
    "        code\n",
    "    def method_name2(self):\n",
    "        code\n",
    "```\n",
    "\n",
    "- 인스턴스화(클래스 실행)\n",
    "``` python\n",
    "c = ClassName()\n",
    "```"
   ]
  },
  {
   "cell_type": "code",
   "execution_count": 18,
   "id": "d7510727-655b-42af-b518-fc4ad1d6ea98",
   "metadata": {},
   "outputs": [],
   "source": [
    "# 선언 \n",
    "class MyClass():\n",
    "    name = 'kim'\n",
    "    def hello(self):\n",
    "        return ('hello')"
   ]
  },
  {
   "cell_type": "code",
   "execution_count": 19,
   "id": "63e9df38-6080-4067-a9ea-a2c7648d599e",
   "metadata": {},
   "outputs": [
    {
     "name": "stdout",
     "output_type": "stream",
     "text": [
      "<__main__.MyClass object at 0x000001799C159D30>\n"
     ]
    }
   ],
   "source": [
    "#선언\n",
    "m = MyClass()\n",
    "print(m)"
   ]
  },
  {
   "cell_type": "code",
   "execution_count": 20,
   "id": "27f41a84-6d1d-44d8-a9a6-46330d643e60",
   "metadata": {},
   "outputs": [
    {
     "name": "stdout",
     "output_type": "stream",
     "text": [
      "kim\n",
      "hello\n"
     ]
    }
   ],
   "source": [
    "print(m.name)\n",
    "print(m.hello())"
   ]
  },
  {
   "cell_type": "code",
   "execution_count": 21,
   "id": "d18e2956-20fb-483c-972f-a19adc3cd691",
   "metadata": {},
   "outputs": [
    {
     "name": "stdout",
     "output_type": "stream",
     "text": [
      "<__main__.MyClass object at 0x000001799C142430>\n"
     ]
    }
   ],
   "source": [
    "m2 = MyClass()\n",
    "print(m2)"
   ]
  },
  {
   "cell_type": "code",
   "execution_count": 34,
   "id": "1d15c69c-28c0-495d-90dd-ed5e38f95b47",
   "metadata": {},
   "outputs": [],
   "source": [
    "class Phone():\n",
    "    power = False\n",
    "    number = '010-0000-0000'\n",
    "    book = {}\n",
    "    model = ''\n",
    "\n",
    "    def on(self):\n",
    "        if self.power == False:\n",
    "            self.power = True\n",
    "    def off(self):\n",
    "        if self.power == True:\n",
    "            self.power = False\n",
    "    def call(self, target):\n",
    "        if self.power == True:\n",
    "            print(f'{self.number}에서 {target}로 전화 가는 중')\n",
    "        else:\n",
    "            print('핸드폰이 꺼져있습니다.')\n",
    "    "
   ]
  },
  {
   "cell_type": "code",
   "execution_count": 35,
   "id": "d3713dc0-0f8f-4119-908d-2574d53a27ed",
   "metadata": {},
   "outputs": [],
   "source": [
    "my_phone = Phone()\n",
    "your_phone = Phone()"
   ]
  },
  {
   "cell_type": "code",
   "execution_count": 36,
   "id": "e67d1a36-76ad-45c3-8031-e273c6fc040a",
   "metadata": {},
   "outputs": [
    {
     "name": "stdout",
     "output_type": "stream",
     "text": [
      "010-1234-1234\n"
     ]
    }
   ],
   "source": [
    "my_phone.number = '010-1234-1234'\n",
    "print(my_phone.number)"
   ]
  },
  {
   "cell_type": "code",
   "execution_count": 37,
   "id": "03f62b98-8611-4027-ba9d-1506f10d1e9d",
   "metadata": {},
   "outputs": [
    {
     "name": "stdout",
     "output_type": "stream",
     "text": [
      "010-5678-5678\n"
     ]
    }
   ],
   "source": [
    "your_phone.number = '010-5678-5678'\n",
    "print(your_phone.number)"
   ]
  },
  {
   "cell_type": "code",
   "execution_count": 39,
   "id": "4afc0491-1ecc-4630-9f8d-a3d95fb23167",
   "metadata": {},
   "outputs": [
    {
     "name": "stdout",
     "output_type": "stream",
     "text": [
      "010-1234-1234에서 112로 전화 가는 중\n"
     ]
    }
   ],
   "source": [
    "my_phone.on()\n",
    "your_phone.on()\n",
    "my_phone.call(112)"
   ]
  },
  {
   "cell_type": "code",
   "execution_count": 22,
   "id": "a1cf3cb1-1109-4b2c-a5c3-a88a464d02ef",
   "metadata": {},
   "outputs": [],
   "source": [
    "class MyList():\n",
    "    data = []\n",
    "    def append(self, d):\n",
    "        #self.data.append(d)\n",
    "        self.data = self.data + [d]\n",
    "    def pop(self):\n",
    "        #self.data.pop()\n",
    "        result = self.data[-1]\n",
    "        self.data = self.data[:-1]\n",
    "        return result"
   ]
  },
  {
   "cell_type": "code",
   "execution_count": 23,
   "id": "1e9cdf66-2eb9-4cfe-87c7-255415294419",
   "metadata": {},
   "outputs": [
    {
     "name": "stdout",
     "output_type": "stream",
     "text": [
      "[]\n",
      "[5]\n",
      "[5, 10]\n",
      "[5]\n"
     ]
    }
   ],
   "source": [
    "list_a = MyList()\n",
    "print(list_a.data)\n",
    "\n",
    "list_a.append(5)\n",
    "print(list_a.data)\n",
    "list_a.append(10)\n",
    "print(list_a.data)\n",
    "list_a.pop()\n",
    "print(list_a.data)"
   ]
  },
  {
   "cell_type": "code",
   "execution_count": 29,
   "id": "afb1b3eb-1116-488c-818a-0d2b78e41310",
   "metadata": {},
   "outputs": [
    {
     "name": "stdout",
     "output_type": "stream",
     "text": [
      "['일', '이', '삼']\n"
     ]
    }
   ],
   "source": [
    "list_b = MyList()\n",
    "list_b.append('일')\n",
    "list_b.append('이')\n",
    "list_b.append('삼')\n",
    "print(list_b.data)"
   ]
  },
  {
   "cell_type": "markdown",
   "id": "405a2dbf-b440-4c22-bbe3-32d55873a0bd",
   "metadata": {},
   "source": [
    "## 생성자, 소멸자 \n",
    "- class를 만드면서 특별한 기능을 가지고 있는 함수라고 생각\n",
    "- instance 안에 있는 어떤 값을 접근하기 위해서는 self 를 이용해서 접근 \n",
    "```python\n",
    "class MyClass():\n",
    "\n",
    "    def __init__(self):\n",
    "        pass\n",
    "    def __del__(self):\n",
    "        pass\n",
    "```"
   ]
  },
  {
   "cell_type": "code",
   "execution_count": 36,
   "id": "a6770d4f-c0fc-42d2-8e1e-25eacfc2132e",
   "metadata": {},
   "outputs": [],
   "source": [
    "class Person():\n",
    "    name = ''\n",
    "\n",
    "    def __init__(self,name):\n",
    "        self.name = name\n",
    "        print(\"생성됨\")\n",
    "    def __del__(self):\n",
    "        print(\"소멸됨\")"
   ]
  },
  {
   "cell_type": "code",
   "execution_count": 37,
   "id": "30518a75-f5f4-4aab-8490-da53aa2b1dcb",
   "metadata": {},
   "outputs": [
    {
     "name": "stdout",
     "output_type": "stream",
     "text": [
      "생성됨\n",
      "kim\n"
     ]
    }
   ],
   "source": [
    "p1 = Person('kim')\n",
    "print(p1.name)"
   ]
  },
  {
   "cell_type": "code",
   "execution_count": 38,
   "id": "1146c5f3-492e-43ab-93fa-7d5d1dffe9e9",
   "metadata": {},
   "outputs": [
    {
     "name": "stdout",
     "output_type": "stream",
     "text": [
      "소멸됨\n"
     ]
    }
   ],
   "source": [
    "del p1"
   ]
  },
  {
   "cell_type": "code",
   "execution_count": 49,
   "id": "4e4d21ee-700f-4e19-bab7-a52679c8df18",
   "metadata": {},
   "outputs": [],
   "source": [
    "class Circle():\n",
    "    pi = 3.14\n",
    "\n",
    "    def __init__(self, r, x, y):\n",
    "        self.r = r\n",
    "        self.x = x\n",
    "        self.y = y\n",
    "    def area(self):\n",
    "        return self.pi * self.r ** 2\n",
    "    def center(self):\n",
    "        return (self.x, self.y)\n",
    "    def move(self, x, y):\n",
    "        self.x = x\n",
    "        self.y = y\n",
    "        print(f'원의 중심이 {x}, {y}로 이동했습니다.')\n",
    "    def round(self):\n",
    "        return self.r * self.pi * 2"
   ]
  },
  {
   "cell_type": "code",
   "execution_count": 50,
   "id": "f7eaf7cc-ed90-4eec-8f12-3a5b29ff5ef5",
   "metadata": {},
   "outputs": [],
   "source": [
    "c1 = Circle(5, 0, 0)"
   ]
  },
  {
   "cell_type": "code",
   "execution_count": 53,
   "id": "4986d649-353e-4999-b558-b4ddd9cc3389",
   "metadata": {},
   "outputs": [
    {
     "name": "stdout",
     "output_type": "stream",
     "text": [
      "31.400000000000002\n"
     ]
    }
   ],
   "source": [
    "print(c1.round())"
   ]
  },
  {
   "cell_type": "code",
   "execution_count": 65,
   "id": "44d06657-18ee-46c0-9020-cf0ea7bc9727",
   "metadata": {},
   "outputs": [],
   "source": [
    "class Point():\n",
    "    def __init__(self, x, y):\n",
    "        self.x = x\n",
    "        self.y = y\n",
    "    def info(self):\n",
    "        return (self.x, self.y)"
   ]
  },
  {
   "cell_type": "code",
   "execution_count": 71,
   "id": "0434e1e2-0b66-40d7-baa4-de831c0e7063",
   "metadata": {},
   "outputs": [],
   "source": [
    "class Circle():\n",
    "    def __init__(self, point, r):\n",
    "        self.point = point\n",
    "        self.r = r\n",
    "    def info(self):\n",
    "        return (self.point.x, self.point.y, self.r)\n",
    "    def move(self, x, y):\n",
    "        self.point.x = x\n",
    "        self.point.y = y"
   ]
  },
  {
   "cell_type": "code",
   "execution_count": 72,
   "id": "391dca51-0d4c-4f82-93b1-87a8bff953cb",
   "metadata": {},
   "outputs": [
    {
     "name": "stdout",
     "output_type": "stream",
     "text": [
      "(1, 2)\n"
     ]
    }
   ],
   "source": [
    "p1 = Point(1,2)\n",
    "print(p1.info())"
   ]
  },
  {
   "cell_type": "code",
   "execution_count": 73,
   "id": "bc0c41ae-6b1f-4ca8-942f-5d4dcd2195d5",
   "metadata": {},
   "outputs": [
    {
     "name": "stdout",
     "output_type": "stream",
     "text": [
      "(1, 2, 3)\n"
     ]
    }
   ],
   "source": [
    "c1 = Circle(p1, 3)\n",
    "print(c1.info())"
   ]
  },
  {
   "cell_type": "code",
   "execution_count": 76,
   "id": "5d86eacc-81a2-4e60-b0ff-af21741aaa23",
   "metadata": {},
   "outputs": [
    {
     "name": "stdout",
     "output_type": "stream",
     "text": [
      "(5, 5, 3)\n"
     ]
    }
   ],
   "source": [
    "c1.move(5,5)\n",
    "print(c1.info())"
   ]
  },
  {
   "cell_type": "markdown",
   "id": "775457cf-21d5-4b00-8c7f-91ddadb04141",
   "metadata": {},
   "source": [
    "## 클래스 변수 \n",
    "- 클래스 선언 블록 최상단에 위치\n",
    "## 인스턴스 변수 \n",
    "- 인스턴스 내부에서 생성한 변수 ('self.variable=')\n",
    "\n",
    "```python\n",
    "class MyClass():\n",
    "    class_variable = '클래스변수'\n",
    "\n",
    "    def __init__(self):\n",
    "        self.instance_variable = '인스턴스변수' #인스턴스가 독자적으로 가지고 있는 것 \n",
    "```"
   ]
  },
  {
   "cell_type": "markdown",
   "id": "ffd686ea-ffe9-4670-a455-d0a9597e7841",
   "metadata": {},
   "source": [
    "### 클래스 메소드. 인스턴스 메소드, 스태틱메소드\n",
    "\n",
    "```python\n",
    "class MyClass():\n",
    "    def instance_method(self):\n",
    "        pass\n",
    "        \n",
    "    @classmethod\n",
    "    def class_method(cls):\n",
    "        pass\n",
    "        \n",
    "    @staticmethod\n",
    "    def static_method():\n",
    "        pass\n",
    "```"
   ]
  },
  {
   "cell_type": "code",
   "execution_count": 79,
   "id": "08878b90-3f53-4877-9fdc-b3e163811465",
   "metadata": {},
   "outputs": [],
   "source": [
    "class MyClass():\n",
    "    def instance_method(self):\n",
    "        return self\n",
    "    @classmethod\n",
    "    def class_method(cls):\n",
    "        return cls\n",
    "    @staticmethod\n",
    "    def static_method():\n",
    "        return 'hello'"
   ]
  },
  {
   "cell_type": "code",
   "execution_count": 81,
   "id": "add6dab5-6ed1-4928-9dd7-38ef09193ebb",
   "metadata": {},
   "outputs": [
    {
     "name": "stdout",
     "output_type": "stream",
     "text": [
      "<__main__.MyClass object at 0x00000161F57661C0>\n",
      "<class '__main__.MyClass'>\n"
     ]
    }
   ],
   "source": [
    "c1 = MyClass()\n",
    "\n",
    "print(c1.instance_method())\n",
    "print(MyClass.class_method())"
   ]
  },
  {
   "cell_type": "code",
   "execution_count": 89,
   "id": "6021491b-7044-455c-b2bd-fdc3436ebbaf",
   "metadata": {},
   "outputs": [],
   "source": [
    "class Puppy():\n",
    "    num_of_puppy = 0\n",
    "    def __init__(self, name):\n",
    "        self.name = name\n",
    "        Puppy.num_of_puppy += 1\n",
    "        \n",
    "    @classmethod\n",
    "    #내가 가지고 싶은 것이 class에 있으니까 class method 사용\n",
    "    def get_status(cls):\n",
    "        print(f'현재 강아지는 {cls.num_of_puppy} 마리 입니다.')\n",
    "    #인스턴스 변수든 클래스 변수든 필요없어서 staticmethod라고 선언\n",
    "    @staticmethod\n",
    "    def barK():\n",
    "        print('멍멍')\n",
    "        \n",
    "    def bark2(self):\n",
    "        print(f'{self.name} 내 이름이야.')"
   ]
  },
  {
   "cell_type": "code",
   "execution_count": 90,
   "id": "55c2d36e-3785-44ed-ba81-c90a3759f6a7",
   "metadata": {},
   "outputs": [],
   "source": [
    "p1 = Puppy('coco')\n",
    "p2 = Puppy('cocoball')\n",
    "p3 = Puppy('minmin')"
   ]
  },
  {
   "cell_type": "code",
   "execution_count": 91,
   "id": "55f7c088-19c7-4975-b2e8-9b1f9205ef25",
   "metadata": {},
   "outputs": [
    {
     "name": "stdout",
     "output_type": "stream",
     "text": [
      "minmin 내 이름이야.\n"
     ]
    }
   ],
   "source": [
    "p3.bark2()"
   ]
  },
  {
   "cell_type": "code",
   "execution_count": 92,
   "id": "9fe99bb1-823c-4fd2-afc3-ca4407e0eff6",
   "metadata": {},
   "outputs": [],
   "source": [
    "class Person():\n",
    "    ident = '111111-111111'\n",
    "\n",
    "    def __init__(self, name):\n",
    "        self.name = name\n",
    "\n",
    "    def greeting(self):\n",
    "        print(f'안녕하세요 {self.name}입니다.')"
   ]
  },
  {
   "cell_type": "code",
   "execution_count": 95,
   "id": "5b0670cc-6154-41fd-a4d9-1aa50a9c2185",
   "metadata": {},
   "outputs": [
    {
     "name": "stdout",
     "output_type": "stream",
     "text": [
      "안녕하세요 홍길동입니다.\n",
      "안녕하세요 이순신입니다.\n"
     ]
    }
   ],
   "source": [
    "p1 = Person('홍길동')\n",
    "p2 = Person('이순신')\n",
    "\n",
    "p1.greeting()\n",
    "p2.greeting()"
   ]
  },
  {
   "cell_type": "code",
   "execution_count": 96,
   "id": "234450c9-e44f-4e6d-8a8a-10dad5b5a038",
   "metadata": {},
   "outputs": [],
   "source": [
    "#greeitng은 다르지만 나머지는 다 똑같다 ! \n",
    "class Soldier(Person):\n",
    "    #ident = '111111-111111'\n",
    "\n",
    "    #def __init__(self, name):\n",
    "        #self.name = name\n",
    "\n",
    "    def greeting(self):\n",
    "        print(f'충성! {self.name}입니다.')"
   ]
  },
  {
   "cell_type": "code",
   "execution_count": 102,
   "id": "713abffe-3221-4551-9fe1-2c5a13cef1bf",
   "metadata": {},
   "outputs": [
    {
     "name": "stdout",
     "output_type": "stream",
     "text": [
      "충성! 국방이입니다.\n"
     ]
    }
   ],
   "source": [
    "s1 = Soldier(\"국방이\")\n",
    "s1.greeting()"
   ]
  },
  {
   "cell_type": "code",
   "execution_count": 106,
   "id": "65ed05ce-595a-461c-bba0-646726434e2b",
   "metadata": {},
   "outputs": [],
   "source": [
    "class Student(Person):\n",
    "    student_it = '123456'\n",
    "\n",
    "    def __init__(self, student_id):\n",
    "        self.student_id = student_id"
   ]
  },
  {
   "cell_type": "code",
   "execution_count": 107,
   "id": "b1569529-3139-4279-8ec0-befa6b020c97",
   "metadata": {},
   "outputs": [],
   "source": [
    "s1 = Student('789789')\n"
   ]
  },
  {
   "cell_type": "code",
   "execution_count": 110,
   "id": "09605212-9e7c-414b-883f-c0f7eab6494c",
   "metadata": {},
   "outputs": [],
   "source": [
    "class Person():\n",
    "    def __init__(self, name, email, phone, location):\n",
    "        self.name = name\n",
    "        self.email = email\n",
    "        self.phone = phone\n",
    "        self.location = location\n",
    "class student(Person):\n",
    "    def __init__(self, name, email, phone, location, student_id):\n",
    "        super().__init__(name, email, phone, location)\n",
    "        self.student_id = student_id"
   ]
  },
  {
   "cell_type": "code",
   "execution_count": 111,
   "id": "59966839-e7b9-4d4c-ab2c-89880bf48307",
   "metadata": {},
   "outputs": [],
   "source": [
    "p1 = Person('hong', 'test@gmail.com', '010-1234', 'seoul')\n",
    "s1 = student('kim', 'kim@gmail.com', '1234', 'seoul', '123123')"
   ]
  },
  {
   "cell_type": "markdown",
   "id": "c39f879f-cda7-452e-ad4e-a9d643d623bb",
   "metadata": {},
   "source": [
    "## 다중상속"
   ]
  },
  {
   "cell_type": "code",
   "execution_count": 112,
   "id": "9e526d53-ab54-4f73-94c3-92a9d234db0c",
   "metadata": {},
   "outputs": [],
   "source": [
    "class Person():\n",
    "    def __init__(self, name):\n",
    "        self.name = name\n",
    "\n",
    "    def breath(self):\n",
    "        print('후하') "
   ]
  },
  {
   "cell_type": "code",
   "execution_count": 114,
   "id": "7f94494c-1228-4be2-a5da-bd34b6d1910b",
   "metadata": {},
   "outputs": [],
   "source": [
    "class Mom(Person):\n",
    "    gene = 'xx'\n",
    "\n",
    "    def swim(self):\n",
    "        print(\"어푸어푸\")"
   ]
  },
  {
   "cell_type": "code",
   "execution_count": 115,
   "id": "ccb2c2d2-72db-42bc-b7c3-cb036c718b83",
   "metadata": {},
   "outputs": [],
   "source": [
    "class Dad(Person):\n",
    "    gene = 'xy'\n",
    "\n",
    "    def run(self):\n",
    "        print('다다다')"
   ]
  },
  {
   "cell_type": "code",
   "execution_count": 116,
   "id": "6a6245da-e7ae-42f9-ab80-74c1a6e23ead",
   "metadata": {},
   "outputs": [],
   "source": [
    "class Baby(Mom, Dad):\n",
    "    pass"
   ]
  },
  {
   "cell_type": "code",
   "execution_count": 117,
   "id": "dd840a0a-035b-42fa-80db-19debc974890",
   "metadata": {},
   "outputs": [
    {
     "name": "stdout",
     "output_type": "stream",
     "text": [
      "금쪽이\n",
      "다다다\n",
      "후하\n",
      "xx\n"
     ]
    }
   ],
   "source": [
    "b = Baby(\"금쪽이\")\n",
    "print(b.name)\n",
    "\n",
    "b.run()\n",
    "b.breath()\n",
    "print(b.gene)"
   ]
  },
  {
   "cell_type": "code",
   "execution_count": null,
   "id": "27659b39-5d0a-45fc-99bc-5dc17576fcef",
   "metadata": {},
   "outputs": [],
   "source": []
  }
 ],
 "metadata": {
  "kernelspec": {
   "display_name": "Python 3 (ipykernel)",
   "language": "python",
   "name": "python3"
  },
  "language_info": {
   "codemirror_mode": {
    "name": "ipython",
    "version": 3
   },
   "file_extension": ".py",
   "mimetype": "text/x-python",
   "name": "python",
   "nbconvert_exporter": "python",
   "pygments_lexer": "ipython3",
   "version": "3.9.2"
  }
 },
 "nbformat": 4,
 "nbformat_minor": 5
}
