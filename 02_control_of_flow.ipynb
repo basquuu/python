{
 "cells": [
  {
   "cell_type": "markdown",
   "id": "846ed864-2d73-4caf-bf33-d83331220e8c",
   "metadata": {},
   "source": [
    "# 제어문 \n",
    "\n",
    "## 조건문 (if문) \n",
    "\n",
    "1. if문은 반드시 일정한 참/거짓을 판단 할 수 있는 `조건식`과 함께 사용된다.\n",
    "2. `<조건식>` 참(True)의 경우 if: 이후의 문장을 실행 \n",
    "3. `<조건식>` 거짓(False)인 경우 else: 이후의 문장을 실행 \n",
    "\n",
    "if <조건식> :\n",
    "    if의 조건식이 참인 경우 실행 \n",
    "    \n",
    "else:\n",
    "    if의 조건식이 거짓인 경우 실행"
   ]
  },
  {
   "cell_type": "code",
   "execution_count": 2,
   "id": "b5b18d94-34a5-4656-952b-90efca40e634",
   "metadata": {},
   "outputs": [
    {
     "name": "stdin",
     "output_type": "stream",
     "text": [
      " 12/25\n"
     ]
    },
    {
     "name": "stdout",
     "output_type": "stream",
     "text": [
      "크리스마스입니다.\n"
     ]
    }
   ],
   "source": [
    "my_string = input()\n",
    "\n",
    "if my_string =='12/25':\n",
    "    print('크리스마스입니다.')\n",
    "else:\n",
    "    print(\"크리스마스가 아닙니다.\")"
   ]
  },
  {
   "cell_type": "code",
   "execution_count": 16,
   "id": "8d41c980-bb17-448a-9623-bdb41c99002e",
   "metadata": {},
   "outputs": [
    {
     "name": "stdin",
     "output_type": "stream",
     "text": [
      "숫자를 입력해주세요 124\n"
     ]
    },
    {
     "name": "stdout",
     "output_type": "stream",
     "text": [
      "짝수입니다.\n"
     ]
    }
   ],
   "source": [
    "num = int(input('숫자를 입력해주세요'))\n",
    "#문자열인 경우 나눠지지 않기 때문에 int 형식으로 변경해줘야 함 \n",
    "result = num % 2\n",
    "if result == 0:\n",
    "    print('짝수입니다.')\n",
    "else:\n",
    "    print('홀수입니다.')"
   ]
  },
  {
   "cell_type": "code",
   "execution_count": 19,
   "id": "f4ead6ef-dcac-45cd-b711-e46db2484620",
   "metadata": {},
   "outputs": [
    {
     "name": "stdin",
     "output_type": "stream",
     "text": [
      " 125\n"
     ]
    },
    {
     "name": "stdout",
     "output_type": "stream",
     "text": [
      "홀수\n"
     ]
    }
   ],
   "source": [
    "num = int(input())\n",
    "\n",
    "if num % 2:\n",
    "    print('홀수')\n",
    "else:\n",
    "    print('짝수')"
   ]
  },
  {
   "cell_type": "code",
   "execution_count": null,
   "id": "fc7f932f-b8ad-4be9-98d8-d12997e64b5d",
   "metadata": {},
   "outputs": [],
   "source": [
    "## elif\n",
    "\n",
    "if <조건식> : \n",
    "    "
   ]
  },
  {
   "cell_type": "code",
   "execution_count": 12,
   "id": "4ee16de3-4e0d-4532-b9fa-6b1d834f4406",
   "metadata": {},
   "outputs": [
    {
     "name": "stdin",
     "output_type": "stream",
     "text": [
      " 78\n"
     ]
    }
   ],
   "source": [
    "score = int(input())"
   ]
  },
  {
   "cell_type": "code",
   "execution_count": 13,
   "id": "e6437c07-f891-41c3-ae18-83202f6a2b67",
   "metadata": {},
   "outputs": [
    {
     "name": "stdout",
     "output_type": "stream",
     "text": [
      "C\n"
     ]
    }
   ],
   "source": [
    "# 90점 이상 A\n",
    "# 80 ~ 89 B\n",
    "# 70 ~ 79 C\n",
    "# 나머지 F\n",
    "\n",
    "if score >= 90:\n",
    "    print('A')\n",
    "elif 80 <= score < 90:\n",
    "    print('B')\n",
    "elif 70 <= score <= 79:\n",
    "    print('C')\n",
    "else:\n",
    "    print('F')"
   ]
  },
  {
   "cell_type": "markdown",
   "id": "93bedf31-f142-4fdb-845e-a422db1ba0a9",
   "metadata": {},
   "source": [
    "### 조건 표현식 \n",
    "\n",
    "```\n",
    "ture_ value = if <조건식> else false_value\n",
    "```"
   ]
  },
  {
   "cell_type": "code",
   "execution_count": 22,
   "id": "e090afe7-293b-4b13-af9e-f7ec258b0315",
   "metadata": {},
   "outputs": [
    {
     "name": "stdout",
     "output_type": "stream",
     "text": [
      "5\n"
     ]
    }
   ],
   "source": [
    "num = 5\n",
    "value = num if num >= 0 else 0\n",
    "print(value)"
   ]
  },
  {
   "cell_type": "code",
   "execution_count": 23,
   "id": "2ea7e111-3a32-4a97-a56d-298b2a003192",
   "metadata": {},
   "outputs": [
    {
     "name": "stdin",
     "output_type": "stream",
     "text": [
      " 4\n"
     ]
    },
    {
     "name": "stdout",
     "output_type": "stream",
     "text": [
      "4\n"
     ]
    }
   ],
   "source": [
    "num = int(input())\n",
    "if num >= 0:\n",
    "    print(num)\n",
    "else:\n",
    "    print(0)"
   ]
  },
  {
   "cell_type": "markdown",
   "id": "909e69d1-46cc-4e81-9ea9-c1003a3eff06",
   "metadata": {},
   "source": [
    "### 반복문 \n",
    "\n",
    "#### while문 \n",
    "\n",
    "```\n",
    "while <조건식>:\n",
    "    실행할 코드\n",
    "```"
   ]
  },
  {
   "cell_type": "code",
   "execution_count": null,
   "id": "8e68faf0-8d08-48a1-b41b-c13f460bfc2a",
   "metadata": {},
   "outputs": [],
   "source": [
    "a = 0\n",
    "\n",
    "while a <5 :\n",
    "    print(a)\n",
    "    a+=1"
   ]
  },
  {
   "cell_type": "markdown",
   "id": "e3edb70b-d065-461a-ba2d-f84a0cb2a6c5",
   "metadata": {},
   "source": [
    "### for \n",
    "\n",
    "정해진 범위 내의 반복 \n",
    "\n",
    "```\n",
    "for variable in sequence:\n",
    "    code\n",
    "```"
   ]
  },
  {
   "cell_type": "code",
   "execution_count": 28,
   "id": "c031c56d-8f3c-466d-b233-c4691a917d9f",
   "metadata": {},
   "outputs": [
    {
     "name": "stdout",
     "output_type": "stream",
     "text": [
      "1\n",
      "2\n",
      "3\n",
      "4\n",
      "5\n"
     ]
    }
   ],
   "source": [
    "numbers = [1, 2, 3, 4, 5]\n",
    "\n",
    "for number in numbers:\n",
    "    print(number)"
   ]
  },
  {
   "cell_type": "code",
   "execution_count": 30,
   "id": "f730c4af-67bb-4733-b060-9fbbe2cdaafd",
   "metadata": {},
   "outputs": [
    {
     "name": "stdin",
     "output_type": "stream",
     "text": [
      "단어를 입력해주세요 apple\n"
     ]
    },
    {
     "name": "stdout",
     "output_type": "stream",
     "text": [
      "a\n",
      "p\n",
      "p\n",
      "l\n",
      "e\n"
     ]
    }
   ],
   "source": [
    "words = input(\"단어를 입력해주세요\")\n",
    "\n",
    "for char in words:\n",
    "    print(char)"
   ]
  },
  {
   "cell_type": "code",
   "execution_count": 31,
   "id": "73e31d58-3238-4e7a-9cf7-451766c80b26",
   "metadata": {},
   "outputs": [
    {
     "name": "stdout",
     "output_type": "stream",
     "text": [
      "0\n",
      "1\n",
      "2\n",
      "3\n",
      "4\n"
     ]
    }
   ],
   "source": [
    "for i in range(5):\n",
    "    print(i)"
   ]
  },
  {
   "cell_type": "code",
   "execution_count": 32,
   "id": "ffd23cf1-3f20-4f57-a25e-f4530dc4f56f",
   "metadata": {},
   "outputs": [
    {
     "name": "stdout",
     "output_type": "stream",
     "text": [
      "1\n",
      "3\n",
      "5\n",
      "7\n",
      "9\n",
      "11\n",
      "13\n",
      "15\n",
      "17\n",
      "19\n",
      "21\n",
      "23\n",
      "25\n",
      "27\n",
      "29\n"
     ]
    }
   ],
   "source": [
    "# 1~ 30까지 숫자 중에서 홀수만 출력하기 !! \n",
    "\n",
    "for i in range(1,31):\n",
    "    if i %2 == 1:\n",
    "        print(i)"
   ]
  },
  {
   "cell_type": "code",
   "execution_count": 33,
   "id": "9cd65175-1603-4d10-a2ea-7bff9d9b2507",
   "metadata": {},
   "outputs": [
    {
     "name": "stdout",
     "output_type": "stream",
     "text": [
      "(0, '라면')\n",
      "(1, '김밥')\n",
      "(2, '백')\n"
     ]
    }
   ],
   "source": [
    "menus = ['라면', '김밥','백']\n",
    "for menu in enumerate(menus):\n",
    "    print(menu)"
   ]
  },
  {
   "cell_type": "code",
   "execution_count": 34,
   "id": "3ac2d6fd-a5f6-4339-bf7c-94aecdbae84e",
   "metadata": {},
   "outputs": [
    {
     "name": "stdout",
     "output_type": "stream",
     "text": [
      "0\n",
      "라면\n",
      "1\n",
      "김밥\n",
      "2\n",
      "백\n"
     ]
    }
   ],
   "source": [
    "#enumerate는 index로 접근 가능하게 \n",
    "for index, menu in enumerate(menus):\n",
    "    print(index)\n",
    "    print(menu)"
   ]
  },
  {
   "cell_type": "code",
   "execution_count": null,
   "id": "9139138a-9c0b-4733-a5bb-90e096349341",
   "metadata": {},
   "outputs": [],
   "source": []
  },
  {
   "cell_type": "markdown",
   "id": "916f9714-4df3-47dc-9edd-c1b0212c96ab",
   "metadata": {},
   "source": [
    "### dictionary 반복 \n",
    "\n",
    "1. for key in dict\n",
    "2. for key in dict.keys()\n",
    "3. for value in dict.values()\n",
    "4. for key, value in dict.items()"
   ]
  },
  {
   "cell_type": "code",
   "execution_count": 35,
   "id": "5fbabc59-5779-4dee-a12e-345961b16ce0",
   "metadata": {},
   "outputs": [],
   "source": [
    "info = {\n",
    "    'name':'gildong',\n",
    "    'location':'seoul',\n",
    "    'phone':'010-1234-1234',\n",
    "    'age': 20,\n",
    "}"
   ]
  },
  {
   "cell_type": "code",
   "execution_count": 37,
   "id": "ecd150bf-6b34-4581-ba06-a0686ec1655c",
   "metadata": {},
   "outputs": [
    {
     "name": "stdout",
     "output_type": "stream",
     "text": [
      "name\n",
      "gildong\n",
      "location\n",
      "seoul\n",
      "phone\n",
      "010-1234-1234\n",
      "age\n",
      "20\n"
     ]
    }
   ],
   "source": [
    "for i in info:\n",
    "    print(i)\n",
    "    print(info[i])"
   ]
  },
  {
   "cell_type": "code",
   "execution_count": 38,
   "id": "236bdfab-9ca6-48b7-b14e-fef3209de5a8",
   "metadata": {},
   "outputs": [
    {
     "data": {
      "text/plain": [
       "dict_keys(['name', 'location', 'phone', 'age'])"
      ]
     },
     "execution_count": 38,
     "metadata": {},
     "output_type": "execute_result"
    }
   ],
   "source": [
    "info.keys()"
   ]
  },
  {
   "cell_type": "code",
   "execution_count": 39,
   "id": "1d4cf90c-570d-4bff-91e9-c38264d85ff3",
   "metadata": {},
   "outputs": [
    {
     "name": "stdout",
     "output_type": "stream",
     "text": [
      "name gildong\n",
      "location seoul\n",
      "phone 010-1234-1234\n",
      "age 20\n"
     ]
    }
   ],
   "source": [
    "for key, value in info.items():\n",
    "    print(key, value)"
   ]
  },
  {
   "cell_type": "code",
   "execution_count": 41,
   "id": "830b7363-8308-4d69-ac6b-3bcfb796c13b",
   "metadata": {},
   "outputs": [],
   "source": [
    "blood_type = {\n",
    "    'A' : 5,\n",
    "    'B' : 3,\n",
    "    'O' : 2,\n",
    "    'AB' : 2,\n",
    "}"
   ]
  },
  {
   "cell_type": "code",
   "execution_count": 51,
   "id": "47e13007-c7b6-49a7-ac8c-2b703fa9eb69",
   "metadata": {},
   "outputs": [
    {
     "name": "stdout",
     "output_type": "stream",
     "text": [
      "혈액형의 종류는 A B O AB 가 있습니다\n"
     ]
    }
   ],
   "source": [
    "#혈액형의 종류는 ? -> key들이 뭐가 있는지가 궁금함 \n",
    "print(\"혈액형의 종류는\", end=' ')\n",
    "for blood in blood_type:\n",
    "    print(blood, end=' ')\n",
    "print(\"가 있습니다\")"
   ]
  },
  {
   "cell_type": "code",
   "execution_count": 44,
   "id": "5330df07-6f96-410a-a245-05b2dc064085",
   "metadata": {},
   "outputs": [
    {
     "data": {
      "text/plain": [
       "dict_keys(['A', 'B', 'O', 'AB'])"
      ]
     },
     "execution_count": 44,
     "metadata": {},
     "output_type": "execute_result"
    }
   ],
   "source": [
    "blood_type.keys()"
   ]
  },
  {
   "cell_type": "code",
   "execution_count": 60,
   "id": "c8df9a15-fdbd-451f-b4bc-aa720aa396da",
   "metadata": {},
   "outputs": [
    {
     "name": "stdout",
     "output_type": "stream",
     "text": [
      "총 학생은 12명입니다.\n"
     ]
    }
   ],
   "source": [
    "# 총 학생 수는 몇명입니다\n",
    "result = 0\n",
    "for value in blood_type.values():\n",
    "    result += value\n",
    "print(f'총 학생은 {result}명입니다.')"
   ]
  },
  {
   "cell_type": "markdown",
   "id": "aa0ad39f-b9e2-4cec-b57c-306fa3cddf44",
   "metadata": {},
   "source": [
    "### break\n",
    "\n",
    "반복문을 종료시키는 키워드"
   ]
  },
  {
   "cell_type": "code",
   "execution_count": 56,
   "id": "5fb0aad6-7632-423c-a9d4-dbb44496ee8b",
   "metadata": {},
   "outputs": [
    {
     "name": "stdout",
     "output_type": "stream",
     "text": [
      "0\n",
      "1\n",
      "2\n",
      "3\n",
      "4\n",
      "5\n",
      "6\n",
      "7\n",
      "8\n",
      "9\n",
      "10\n"
     ]
    }
   ],
   "source": [
    "for i in range(100):\n",
    "    if i > 10:\n",
    "        break\n",
    "    print(i)"
   ]
  },
  {
   "cell_type": "code",
   "execution_count": 57,
   "id": "cac789da-e6fc-41ed-a69e-e4b9054ac581",
   "metadata": {},
   "outputs": [
    {
     "name": "stdout",
     "output_type": "stream",
     "text": [
      "보리\n",
      "보리\n",
      "보리\n",
      "보리\n",
      "쌀\n",
      "보리\n"
     ]
    }
   ],
   "source": [
    "rice = ['보리','보리','보리','보리','쌀','보리']\n",
    "\n",
    "for r in rice:\n",
    "    print(r)"
   ]
  },
  {
   "cell_type": "code",
   "execution_count": null,
   "id": "7f10677b-42d5-4f05-9641-f54cf96a89da",
   "metadata": {},
   "outputs": [],
   "source": [
    "i = 0\n",
    "\n",
    "while True:\n",
    "    if rice[i] == 쌀:\n",
    "        print('잡았다')\n",
    "        break\n",
    "    print(rice[i])\n",
    "    i = i+1"
   ]
  },
  {
   "cell_type": "markdown",
   "id": "4b424479-8531-45a3-bcbf-67a3d5d5fe36",
   "metadata": {},
   "source": [
    "### continue\n",
    "\n",
    "continue 이후의 코드를 실행하지 않고 다음 반복을 진행 "
   ]
  },
  {
   "cell_type": "code",
   "execution_count": 61,
   "id": "1c32957b-afa7-4a06-a522-22e3f0a7a4b2",
   "metadata": {},
   "outputs": [
    {
     "name": "stdout",
     "output_type": "stream",
     "text": [
      "0\n",
      "2\n",
      "4\n",
      "6\n",
      "8\n",
      "10\n",
      "12\n",
      "14\n",
      "16\n",
      "18\n"
     ]
    }
   ],
   "source": [
    "for i in range(20):\n",
    "    if i % 2 :\n",
    "        continue\n",
    "    print(i)"
   ]
  },
  {
   "cell_type": "code",
   "execution_count": 65,
   "id": "23459684-f707-479b-8b07-3ac89d851fc7",
   "metadata": {},
   "outputs": [
    {
     "name": "stdout",
     "output_type": "stream",
     "text": [
      "38살은 성인입니다.\n",
      "82살은 성인입니다.\n",
      "39살은 성인입니다.\n"
     ]
    }
   ],
   "source": [
    "ages = [10, 20, 38, 82, 11, 13, 39]\n",
    "\n",
    "for age in ages:\n",
    "    if age <=20:\n",
    "        continue\n",
    "    print(f\"{age}살은 성인입니다.\")"
   ]
  },
  {
   "cell_type": "markdown",
   "id": "bd5aeff8-751b-4b73-847d-7dff762fad84",
   "metadata": {},
   "source": [
    "### else\n",
    "\n",
    "else문은 끝까지 반복된 후 실행됩니다."
   ]
  },
  {
   "cell_type": "code",
   "execution_count": 66,
   "id": "be98a229-19fa-49bf-9084-9230b685c1d8",
   "metadata": {},
   "outputs": [
    {
     "name": "stdout",
     "output_type": "stream",
     "text": [
      "0\n",
      "1\n",
      "2\n",
      "3\n",
      "4\n",
      "5\n"
     ]
    }
   ],
   "source": [
    "for i in range(10):\n",
    "    if i > 5:\n",
    "        break\n",
    "    print(i)\n",
    "else:\n",
    "    print(\"else입니다.\")"
   ]
  },
  {
   "cell_type": "markdown",
   "id": "b98780ac-9ae2-446b-a329-6a9d82d67533",
   "metadata": {},
   "source": [
    "### pass"
   ]
  },
  {
   "cell_type": "markdown",
   "id": "9ae26a15-b0f8-4b33-87b4-378f7e3f29f9",
   "metadata": {},
   "source": [
    "### match\n",
    "```\n",
    "match value: \n",
    "    case 조건:\n",
    "        code\n",
    "    case 조건:\n",
    "        code\n",
    "    case _:\n",
    "        code\n",
    "```"
   ]
  },
  {
   "cell_type": "code",
   "execution_count": null,
   "id": "9e3fc1e5-17cb-4872-8f4e-18147f28d3f6",
   "metadata": {},
   "outputs": [],
   "source": [
    "satus= 123\n",
    "\n"
   ]
  }
 ],
 "metadata": {
  "kernelspec": {
   "display_name": "Python 3 (ipykernel)",
   "language": "python",
   "name": "python3"
  },
  "language_info": {
   "codemirror_mode": {
    "name": "ipython",
    "version": 3
   },
   "file_extension": ".py",
   "mimetype": "text/x-python",
   "name": "python",
   "nbconvert_exporter": "python",
   "pygments_lexer": "ipython3",
   "version": "3.9.2"
  }
 },
 "nbformat": 4,
 "nbformat_minor": 5
}
