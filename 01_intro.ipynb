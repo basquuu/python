{
 "cells": [
  {
   "cell_type": "markdown",
   "id": "d0cfdaa1-c790-4741-985e-e8752e7d485f",
   "metadata": {},
   "source": [
    "# 01. intro \n",
    "\n",
    "## shortcut \n",
    "- ctrl + enter : 지금 현재 셀 실행\n",
    "- shift + enter : 현재 셀 실행 & 아래로 이동\n",
    "- alt + enter : 현재 셀 실행 & 아래에 새로운 셀 추가\n",
    "\n",
    "## 주의사항 \n",
    "\n",
    "1. Apple / apple : 대문자와 소문자는 완전히 다르다\n",
    "2. git add . / git add. : 완전히 다른 명령어\n",
    "3. message / massage : 철자 신경 쓰기 "
   ]
  },
  {
   "cell_type": "code",
   "execution_count": null,
   "id": "91bd4d82-f177-453f-821a-1a1295f6d853",
   "metadata": {},
   "outputs": [],
   "source": [
    "# 여기는 주석입니다. "
   ]
  },
  {
   "cell_type": "markdown",
   "id": "81634426-a455-4bec-8aea-1d08f2e8a255",
   "metadata": {
    "jp-MarkdownHeadingCollapsed": true
   },
   "source": [
    "## 1. 변수 \n",
    "\n",
    "변수 이름 = 값\n",
    "\n",
    "- 변수 이름은 어떤 이름이든 사용 가능함\n",
    "- 다만, 영어, 숫자, _를 이용하여 선언\n",
    "- 키워드는 사용 불가능 함"
   ]
  },
  {
   "cell_type": "code",
   "execution_count": 16,
   "id": "2a475f09-48f3-48f1-b072-866982de51b3",
   "metadata": {},
   "outputs": [],
   "source": [
    "a = 20 "
   ]
  },
  {
   "cell_type": "code",
   "execution_count": 17,
   "id": "7994da17-3df6-4fc1-b274-35b0daee17dc",
   "metadata": {},
   "outputs": [
    {
     "data": {
      "text/plain": [
       "20"
      ]
     },
     "execution_count": 17,
     "metadata": {},
     "output_type": "execute_result"
    }
   ],
   "source": [
    "a"
   ]
  },
  {
   "cell_type": "code",
   "execution_count": 19,
   "id": "f01183dd-4d16-4f55-85b8-ef6dcd5f9387",
   "metadata": {},
   "outputs": [
    {
     "data": {
      "text/plain": [
       "['False',\n",
       " 'None',\n",
       " 'True',\n",
       " '__peg_parser__',\n",
       " 'and',\n",
       " 'as',\n",
       " 'assert',\n",
       " 'async',\n",
       " 'await',\n",
       " 'break',\n",
       " 'class',\n",
       " 'continue',\n",
       " 'def',\n",
       " 'del',\n",
       " 'elif',\n",
       " 'else',\n",
       " 'except',\n",
       " 'finally',\n",
       " 'for',\n",
       " 'from',\n",
       " 'global',\n",
       " 'if',\n",
       " 'import',\n",
       " 'in',\n",
       " 'is',\n",
       " 'lambda',\n",
       " 'nonlocal',\n",
       " 'not',\n",
       " 'or',\n",
       " 'pass',\n",
       " 'raise',\n",
       " 'return',\n",
       " 'try',\n",
       " 'while',\n",
       " 'with',\n",
       " 'yield']"
      ]
     },
     "execution_count": 19,
     "metadata": {},
     "output_type": "execute_result"
    }
   ],
   "source": [
    "import keyword\n",
    "keyword.kwlist"
   ]
  },
  {
   "cell_type": "code",
   "execution_count": 20,
   "id": "fb34be33-c32b-4773-ad11-839f412ec49c",
   "metadata": {},
   "outputs": [],
   "source": [
    "seoul_dust_rate = 40 #여러개 단어 조합할 때는 _ 사용하기 "
   ]
  },
  {
   "cell_type": "markdown",
   "id": "3a3c863d-dd1a-4131-bf08-21f57e9d1850",
   "metadata": {
    "jp-MarkdownHeadingCollapsed": true
   },
   "source": [
    "### 1.1 number"
   ]
  },
  {
   "cell_type": "code",
   "execution_count": 21,
   "id": "4a5e43a8-ff0a-409a-abef-1c59d4ef39e0",
   "metadata": {},
   "outputs": [],
   "source": [
    "a = 100000"
   ]
  },
  {
   "cell_type": "code",
   "execution_count": 22,
   "id": "5a952613-21fb-446e-a453-66e70fe19b82",
   "metadata": {},
   "outputs": [
    {
     "data": {
      "text/plain": [
       "100000"
      ]
     },
     "execution_count": 22,
     "metadata": {},
     "output_type": "execute_result"
    }
   ],
   "source": [
    "a"
   ]
  },
  {
   "cell_type": "code",
   "execution_count": 24,
   "id": "ddbf1f3f-a6f6-48e5-8602-70ead71afe1c",
   "metadata": {},
   "outputs": [
    {
     "data": {
      "text/plain": [
       "int"
      ]
     },
     "execution_count": 24,
     "metadata": {},
     "output_type": "execute_result"
    }
   ],
   "source": [
    "type(a) #integer : 정수형 "
   ]
  },
  {
   "cell_type": "code",
   "execution_count": 25,
   "id": "cfb94ba7-a87c-4a51-9ba2-7a7f09c8db27",
   "metadata": {},
   "outputs": [],
   "source": [
    "b = 1.1"
   ]
  },
  {
   "cell_type": "code",
   "execution_count": 26,
   "id": "afc2eb40-0308-433e-ab79-79616836267d",
   "metadata": {},
   "outputs": [
    {
     "data": {
      "text/plain": [
       "float"
      ]
     },
     "execution_count": 26,
     "metadata": {},
     "output_type": "execute_result"
    }
   ],
   "source": [
    "type(b) #float : 실수형"
   ]
  },
  {
   "cell_type": "code",
   "execution_count": 31,
   "id": "6796b50b-38a8-4e0c-be88-3dda4b22a4a6",
   "metadata": {},
   "outputs": [],
   "source": [
    "c = 1- 4j"
   ]
  },
  {
   "cell_type": "code",
   "execution_count": 32,
   "id": "a9706dd4-d4f8-4feb-81ab-4fab305e0ac6",
   "metadata": {},
   "outputs": [
    {
     "data": {
      "text/plain": [
       "(1-4j)"
      ]
     },
     "execution_count": 32,
     "metadata": {},
     "output_type": "execute_result"
    }
   ],
   "source": [
    "c"
   ]
  },
  {
   "cell_type": "code",
   "execution_count": 33,
   "id": "caf4fa02-0b82-4df1-a9d5-01e51ae2873d",
   "metadata": {},
   "outputs": [
    {
     "data": {
      "text/plain": [
       "complex"
      ]
     },
     "execution_count": 33,
     "metadata": {},
     "output_type": "execute_result"
    }
   ],
   "source": [
    "type(c) #복소수 "
   ]
  },
  {
   "cell_type": "markdown",
   "id": "3b196791-b7d2-4780-8771-fcc3a3ccb498",
   "metadata": {},
   "source": [
    "### 1.2 boolean\n",
    "\n",
    "True, False 로 이루어진 타입"
   ]
  },
  {
   "cell_type": "code",
   "execution_count": 34,
   "id": "79cf8481-e062-4eb9-a587-af2752e3e3b3",
   "metadata": {},
   "outputs": [],
   "source": [
    "a = True"
   ]
  },
  {
   "cell_type": "code",
   "execution_count": 35,
   "id": "5b834aae-9d10-4695-886a-039501a615d1",
   "metadata": {},
   "outputs": [
    {
     "data": {
      "text/plain": [
       "bool"
      ]
     },
     "execution_count": 35,
     "metadata": {},
     "output_type": "execute_result"
    }
   ],
   "source": [
    "type(a)"
   ]
  },
  {
   "cell_type": "code",
   "execution_count": 36,
   "id": "90adde1f-7004-4e65-a90a-1054868e17c2",
   "metadata": {},
   "outputs": [],
   "source": [
    "b = False"
   ]
  },
  {
   "cell_type": "code",
   "execution_count": 37,
   "id": "e7ff6f11-9d13-4158-ac69-0693e10ec024",
   "metadata": {},
   "outputs": [
    {
     "data": {
      "text/plain": [
       "bool"
      ]
     },
     "execution_count": 37,
     "metadata": {},
     "output_type": "execute_result"
    }
   ],
   "source": [
    "type(b)"
   ]
  },
  {
   "cell_type": "markdown",
   "id": "dec6b67d-a114-4f0e-811f-77983151eecc",
   "metadata": {},
   "source": [
    "### 1.3 None"
   ]
  },
  {
   "cell_type": "code",
   "execution_count": 39,
   "id": "a56b96b8-ae16-4206-b3f2-c594dea23dac",
   "metadata": {},
   "outputs": [],
   "source": [
    "a = None"
   ]
  },
  {
   "cell_type": "code",
   "execution_count": 40,
   "id": "e2fbd3cc-b1af-4c74-8fec-94a41363b184",
   "metadata": {},
   "outputs": [
    {
     "data": {
      "text/plain": [
       "NoneType"
      ]
     },
     "execution_count": 40,
     "metadata": {},
     "output_type": "execute_result"
    }
   ],
   "source": [
    "type(None)"
   ]
  },
  {
   "cell_type": "markdown",
   "id": "5c399407-1567-440e-a87c-a9c81cd2e5a3",
   "metadata": {},
   "source": [
    "### 1.4 String\n",
    "\n",
    "- 문자열 `'`,`\"`를 이용하여 표현"
   ]
  },
  {
   "cell_type": "code",
   "execution_count": 47,
   "id": "76cf7717-aa03-4b00-b4fe-73b8dc8f7f1d",
   "metadata": {},
   "outputs": [],
   "source": [
    "a = 'hello'"
   ]
  },
  {
   "cell_type": "code",
   "execution_count": 43,
   "id": "7a4b4fbe-761b-4755-8d70-3b76e65aaa4f",
   "metadata": {},
   "outputs": [
    {
     "data": {
      "text/plain": [
       "'hello'"
      ]
     },
     "execution_count": 43,
     "metadata": {},
     "output_type": "execute_result"
    }
   ],
   "source": [
    "a"
   ]
  },
  {
   "cell_type": "code",
   "execution_count": 44,
   "id": "44152856-1bde-4cb6-9b13-c170c306d863",
   "metadata": {},
   "outputs": [
    {
     "data": {
      "text/plain": [
       "str"
      ]
     },
     "execution_count": 44,
     "metadata": {},
     "output_type": "execute_result"
    }
   ],
   "source": [
    "type(a)"
   ]
  },
  {
   "cell_type": "code",
   "execution_count": 45,
   "id": "223670a2-d242-4ceb-a03b-32c75fe7a472",
   "metadata": {},
   "outputs": [],
   "source": [
    "b= \"world\""
   ]
  },
  {
   "cell_type": "code",
   "execution_count": 46,
   "id": "76bbf0f0-1ba2-4d9a-91eb-0b7912c4cd7b",
   "metadata": {},
   "outputs": [
    {
     "data": {
      "text/plain": [
       "str"
      ]
     },
     "execution_count": 46,
     "metadata": {},
     "output_type": "execute_result"
    }
   ],
   "source": [
    "type(b)"
   ]
  },
  {
   "cell_type": "code",
   "execution_count": 52,
   "id": "40483207-ef4a-48d1-b757-f9e1bc054034",
   "metadata": {},
   "outputs": [
    {
     "name": "stdout",
     "output_type": "stream",
     "text": [
      " 123\n"
     ]
    },
    {
     "name": "stdout",
     "output_type": "stream",
     "text": [
      "123\n",
      "<class 'str'>\n"
     ]
    }
   ],
   "source": [
    "age = input()\n",
    "print(age)\n",
    "print(type(age))"
   ]
  },
  {
   "cell_type": "code",
   "execution_count": 54,
   "id": "2699a9ba-1eec-471c-8758-88d62b2e31aa",
   "metadata": {},
   "outputs": [
    {
     "name": "stdout",
     "output_type": "stream",
     "text": [
      "안녕하세요 \"오창희\"입니다.\n",
      "안녕하세요. '오창희'입니다.\n"
     ]
    }
   ],
   "source": [
    "print('안녕하세요 \"오창희\"입니다.')\n",
    "print(\"안녕하세요. '오창희'입니다.\")"
   ]
  },
  {
   "cell_type": "code",
   "execution_count": 56,
   "id": "dd435baa-23b3-46f2-b7a8-b45278602491",
   "metadata": {},
   "outputs": [
    {
     "name": "stdout",
     "output_type": "stream",
     "text": [
      "안녕하세요. \"오창희\"입니다.\n"
     ]
    }
   ],
   "source": [
    "print(\"안녕하세요. \\\"오창희\\\"입니다.\")"
   ]
  },
  {
   "cell_type": "code",
   "execution_count": 59,
   "id": "6b8cbd27-6357-45dd-924e-6190e9ebde08",
   "metadata": {},
   "outputs": [
    {
     "name": "stdout",
     "output_type": "stream",
     "text": [
      "\n",
      "안녕하세요. '오창희' 입니다.\n",
      "여러줄도 작성 가능합니다. \n",
      "\n"
     ]
    }
   ],
   "source": [
    "a = '''\n",
    "안녕하세요. '오창희' 입니다.\n",
    "여러줄도 작성 가능합니다. \n",
    "'''\n",
    "print(a)"
   ]
  },
  {
   "cell_type": "code",
   "execution_count": 61,
   "id": "b66d9277-f22f-4704-8a6d-8fc1cfe67ca3",
   "metadata": {},
   "outputs": [
    {
     "name": "stdout",
     "output_type": "stream",
     "text": [
      "안녕하세요. \n",
      "오창희입니다.  \t 들여쓰기 이스케이프 문자열입니다.\n"
     ]
    }
   ],
   "source": [
    "print(\"안녕하세요. \\n오창희입니다.  \\t 들여쓰기 이스케이프 문자열입니다.\")"
   ]
  },
  {
   "cell_type": "markdown",
   "id": "7d871d93-a666-4297-8348-99715f5515ea",
   "metadata": {},
   "source": [
    "### string interpolation\n",
    "\n",
    "1. %-formating\n",
    "2. str.format()\n",
    "3. f-string"
   ]
  },
  {
   "cell_type": "code",
   "execution_count": 63,
   "id": "ce0128b6-ab8e-476b-9609-10328349948a",
   "metadata": {},
   "outputs": [],
   "source": [
    "age = 10"
   ]
  },
  {
   "cell_type": "code",
   "execution_count": 68,
   "id": "35ab5739-dd22-4c96-a2c6-4a4d094a436f",
   "metadata": {},
   "outputs": [
    {
     "name": "stdout",
     "output_type": "stream",
     "text": [
      "홍길동은 10살 입니다.\n"
     ]
    }
   ],
   "source": [
    "print(\"홍길동은 %s살 입니다.\"% age)"
   ]
  },
  {
   "cell_type": "code",
   "execution_count": 72,
   "id": "cfe71553-1dfb-436e-ba6e-514e845dde89",
   "metadata": {},
   "outputs": [
    {
     "name": "stdout",
     "output_type": "stream",
     "text": [
      "홍길동은 10살 입니다.\n"
     ]
    }
   ],
   "source": [
    "print(\"홍길동은 {}살입니다.\".format(age))"
   ]
  },
  {
   "cell_type": "code",
   "execution_count": 73,
   "id": "59580e9d-6c56-4bd2-9a79-d6778c8b59fa",
   "metadata": {},
   "outputs": [
    {
     "name": "stdout",
     "output_type": "stream",
     "text": [
      "홍길동은 10살입니다.\n"
     ]
    }
   ],
   "source": [
    "print(f\"홍길동은 {age}살입니다.\")"
   ]
  },
  {
   "cell_type": "markdown",
   "id": "938c3f77-bd4f-45f4-8736-dea2cd886db8",
   "metadata": {
    "jp-MarkdownHeadingCollapsed": true
   },
   "source": [
    "## 2. 연산자 "
   ]
  },
  {
   "cell_type": "code",
   "execution_count": 78,
   "id": "db1e365f-55f7-411c-84b7-d7869da81482",
   "metadata": {},
   "outputs": [],
   "source": [
    "a = 7\n",
    "b = 3"
   ]
  },
  {
   "cell_type": "code",
   "execution_count": 79,
   "id": "cbd4a328-4fa5-4d5b-838e-9a09aac6bd88",
   "metadata": {},
   "outputs": [
    {
     "name": "stdout",
     "output_type": "stream",
     "text": [
      "10\n",
      "4\n",
      "21\n",
      "2.3333333333333335\n",
      "343\n"
     ]
    }
   ],
   "source": [
    "print(a+b)\n",
    "print(a-b)\n",
    "print(a*b)\n",
    "print(a/b)\n",
    "print(a**b)"
   ]
  },
  {
   "cell_type": "code",
   "execution_count": 82,
   "id": "4fd7fe0d-343d-46a1-8fe5-969310df6759",
   "metadata": {},
   "outputs": [
    {
     "name": "stdout",
     "output_type": "stream",
     "text": [
      "2\n",
      "1\n"
     ]
    }
   ],
   "source": [
    "print(a//b) #몫\n",
    "print(a%b) #나머지"
   ]
  },
  {
   "cell_type": "code",
   "execution_count": 83,
   "id": "883f8642-6cb7-492a-9eb3-0f14fdd6db68",
   "metadata": {},
   "outputs": [
    {
     "name": "stdout",
     "output_type": "stream",
     "text": [
      "(2, 1)\n"
     ]
    }
   ],
   "source": [
    "print(divmod(a,b)) #몫과 나머지"
   ]
  },
  {
   "cell_type": "markdown",
   "id": "4b9f602c-4fcf-4e0a-8629-3bd17d1c8009",
   "metadata": {},
   "source": [
    "### 2.2 비교 연산자 "
   ]
  },
  {
   "cell_type": "code",
   "execution_count": 84,
   "id": "fa9354d4-0eb4-4c4c-a4b3-394b2ca71d43",
   "metadata": {},
   "outputs": [],
   "source": [
    "a = 5\n",
    "b = 10 "
   ]
  },
  {
   "cell_type": "code",
   "execution_count": 85,
   "id": "8f0dab19-b21c-4f3f-9c43-c5d622dd8645",
   "metadata": {},
   "outputs": [
    {
     "name": "stdout",
     "output_type": "stream",
     "text": [
      "False\n",
      "True\n",
      "False\n",
      "True\n"
     ]
    }
   ],
   "source": [
    "print(a>b)\n",
    "print(a<b)\n",
    "print(a>=b)\n",
    "print(a<=b)"
   ]
  },
  {
   "cell_type": "code",
   "execution_count": 88,
   "id": "7c12808b-e019-4568-9080-f0d802a4ea9d",
   "metadata": {},
   "outputs": [
    {
     "name": "stdout",
     "output_type": "stream",
     "text": [
      "False\n",
      "True\n"
     ]
    }
   ],
   "source": [
    "print(a==b)\n",
    "print(a !=b ) #데이터가 서로 다르다"
   ]
  },
  {
   "cell_type": "code",
   "execution_count": 90,
   "id": "ad4aa548-ed36-4e4f-b3f6-bd09e5e32297",
   "metadata": {},
   "outputs": [
    {
     "name": "stdout",
     "output_type": "stream",
     "text": [
      "True\n",
      "False\n"
     ]
    }
   ],
   "source": [
    "print(\"hi\" == 'hi')\n",
    "print(\"HI\" == 'hi')"
   ]
  },
  {
   "cell_type": "markdown",
   "id": "71e1a45e-4e69-4ca0-94ca-613e5c161370",
   "metadata": {},
   "source": [
    "### 2.3 논리 연산자\n",
    "\n",
    "- and : 양쪽 모두 True일 때, True를 반환\n",
    "- or : 양쪽 모두 False 일 때, False를 반환\n",
    "- not : "
   ]
  },
  {
   "cell_type": "code",
   "execution_count": 91,
   "id": "0fc73cb0-bbbe-48b4-b3e2-277c4188f353",
   "metadata": {},
   "outputs": [
    {
     "name": "stdout",
     "output_type": "stream",
     "text": [
      "True\n",
      "False\n",
      "False\n",
      "False\n"
     ]
    }
   ],
   "source": [
    "print(True and True)\n",
    "print(True and False)\n",
    "print(False and True)\n",
    "print(False and False)"
   ]
  },
  {
   "cell_type": "code",
   "execution_count": 92,
   "id": "f8aa0a48-1ef1-4332-bbf6-d1f74481efb1",
   "metadata": {},
   "outputs": [
    {
     "name": "stdout",
     "output_type": "stream",
     "text": [
      "True\n",
      "True\n",
      "True\n",
      "False\n"
     ]
    }
   ],
   "source": [
    "print(True or True)\n",
    "print(True or False)\n",
    "print(False or True)\n",
    "print(False or False)"
   ]
  },
  {
   "cell_type": "code",
   "execution_count": 93,
   "id": "7eab21dd-68b7-4991-9e5a-cf2ec558ddac",
   "metadata": {},
   "outputs": [
    {
     "name": "stdout",
     "output_type": "stream",
     "text": [
      "False\n"
     ]
    }
   ],
   "source": [
    "result = True \n",
    "print(not result)"
   ]
  },
  {
   "cell_type": "code",
   "execution_count": 97,
   "id": "6a5874ea-c13e-42a9-8553-a4a941dea45f",
   "metadata": {},
   "outputs": [
    {
     "name": "stdout",
     "output_type": "stream",
     "text": [
      "5\n",
      "0\n",
      "0\n",
      "0\n"
     ]
    }
   ],
   "source": [
    "# 단축 평가\n",
    "print(3 and 5) #True and True -> 앞에가 T네 그럼 나도 F 출력할게 이런 식 \n",
    "print(3 and 0) #True and False\n",
    "print(0 and 3) #False and True\n",
    "print(0 and 0) #False and False"
   ]
  },
  {
   "cell_type": "code",
   "execution_count": 98,
   "id": "3f741629-0411-48ef-a7b1-af509ce6f87c",
   "metadata": {},
   "outputs": [
    {
     "name": "stdout",
     "output_type": "stream",
     "text": [
      "3\n",
      "3\n",
      "3\n",
      "0\n"
     ]
    }
   ],
   "source": [
    "print(3 or 5) \n",
    "print(3 or 0)\n",
    "print(0 or 3)\n",
    "print(0 or 0)"
   ]
  },
  {
   "cell_type": "markdown",
   "id": "50157969-05c3-4856-8ac7-4bc1d7338011",
   "metadata": {},
   "source": [
    "### 2.4 복합 연산자 "
   ]
  },
  {
   "cell_type": "code",
   "execution_count": 99,
   "id": "19d210e3-9095-4e5d-b9f2-2ca17ffd5d04",
   "metadata": {},
   "outputs": [],
   "source": [
    "a = 1\n",
    "b = 2"
   ]
  },
  {
   "cell_type": "code",
   "execution_count": 101,
   "id": "4b646acf-ecc1-440e-bb03-edf53fa2497e",
   "metadata": {},
   "outputs": [],
   "source": [
    "a = a + b\n",
    "a = a - b\n",
    "a = a * b\n",
    "a = a / b"
   ]
  },
  {
   "cell_type": "code",
   "execution_count": 102,
   "id": "ce5d7b07-ec90-4c12-b775-b6896cddddec",
   "metadata": {},
   "outputs": [],
   "source": [
    "a += b\n",
    "a -= b\n",
    "a *= b\n",
    "a /= b"
   ]
  },
  {
   "cell_type": "markdown",
   "id": "a771272f-b923-4536-8441-f20eb51eb945",
   "metadata": {},
   "source": [
    "### 2.5 기타 연산자 "
   ]
  },
  {
   "cell_type": "code",
   "execution_count": 105,
   "id": "d4f1b0fa-b1b2-49ab-b1c6-23dc3a0310f0",
   "metadata": {},
   "outputs": [],
   "source": [
    "a = 'hi'\n",
    "b = 'hello'"
   ]
  },
  {
   "cell_type": "code",
   "execution_count": 106,
   "id": "8a037faa-65bc-4041-8753-496e22314669",
   "metadata": {},
   "outputs": [
    {
     "name": "stdout",
     "output_type": "stream",
     "text": [
      "hihello\n"
     ]
    }
   ],
   "source": [
    "#concatenation\n",
    "print(a+b) #문자열이 연결되어서 나옴 "
   ]
  },
  {
   "cell_type": "code",
   "execution_count": 108,
   "id": "b5c3413e-fc9e-41f1-9f07-bcab3db64526",
   "metadata": {},
   "outputs": [],
   "source": [
    "a = [1, 2, 3]\n",
    "b = [4, 5, 6]"
   ]
  },
  {
   "cell_type": "code",
   "execution_count": 109,
   "id": "c919d308-952f-4237-9d97-041dfb8660ac",
   "metadata": {},
   "outputs": [
    {
     "name": "stdout",
     "output_type": "stream",
     "text": [
      "[1, 2, 3, 4, 5, 6]\n"
     ]
    }
   ],
   "source": [
    "print(a+b) #sequence 형 데이터는 concat이 가능하다 !!"
   ]
  },
  {
   "cell_type": "code",
   "execution_count": 111,
   "id": "dcc942c1-fd3e-4701-853b-ec704379481d",
   "metadata": {},
   "outputs": [
    {
     "name": "stdout",
     "output_type": "stream",
     "text": [
      "True\n",
      "False\n"
     ]
    }
   ],
   "source": [
    "#containment\n",
    "print(1 in a)\n",
    "print(10 in a)"
   ]
  },
  {
   "cell_type": "code",
   "execution_count": 115,
   "id": "7e8440e3-bb05-4636-ae94-1cd2f88ed9f5",
   "metadata": {},
   "outputs": [
    {
     "name": "stdout",
     "output_type": "stream",
     "text": [
      "True\n",
      "True\n"
     ]
    }
   ],
   "source": [
    "# identity\n",
    "\n",
    "a = 5 \n",
    "b = 5\n",
    "\n",
    "print(a == b)\n",
    "print(a is b) #is는 메모리 값을 비교함 -> 파이썬은 자주 사용하는 숫자(-5 ~ 256)들을 동일한 메모리에 이미 저장해두기 때문에 메모리 주소 값은 동일"
   ]
  },
  {
   "cell_type": "code",
   "execution_count": 114,
   "id": "15c5341b-daae-4e69-b977-f04cee83b78c",
   "metadata": {},
   "outputs": [
    {
     "name": "stdout",
     "output_type": "stream",
     "text": [
      "True\n",
      "False\n"
     ]
    }
   ],
   "source": [
    "a = 123123\n",
    "b = 123123\n",
    "\n",
    "print(a == b)\n",
    "print(a is b)"
   ]
  },
  {
   "cell_type": "code",
   "execution_count": 120,
   "id": "ffedc5fb-e2db-4ec9-8a70-105dba25a3a5",
   "metadata": {},
   "outputs": [
    {
     "name": "stdout",
     "output_type": "stream",
     "text": [
      "True\n",
      "False\n"
     ]
    }
   ],
   "source": [
    "a = 257\n",
    "b = 257\n",
    "\n",
    "print(a == b)\n",
    "print(a is b)"
   ]
  },
  {
   "cell_type": "markdown",
   "id": "815d9a12-d2b5-4bd3-97af-2bebbe393b35",
   "metadata": {},
   "source": [
    "#### 우선 순위 \n",
    "\n",
    "0. ()를 통해 그룹 \n",
    "1. **\n",
    "2. 산술연산자(*,/)\n",
    "3. 산술연산자(+,-)\n",
    "4. 비교연산자, in, is\n",
    "5. not\n",
    "6. and \n",
    "7. or"
   ]
  },
  {
   "cell_type": "code",
   "execution_count": 122,
   "id": "b6fbafc5-a42a-491d-9874-c4492d3dd9d1",
   "metadata": {},
   "outputs": [
    {
     "name": "stdout",
     "output_type": "stream",
     "text": [
      "-81\n",
      "81\n"
     ]
    }
   ],
   "source": [
    "print( -3 ** 4)\n",
    "print((-3) ** 4)"
   ]
  },
  {
   "cell_type": "markdown",
   "id": "c5e6274a-97b1-4ff9-b453-d9e7d3023e44",
   "metadata": {},
   "source": [
    "## 3. 형 변환 "
   ]
  },
  {
   "cell_type": "markdown",
   "id": "bd274b52-9ecd-4fcd-9dd3-e4dd87cedf24",
   "metadata": {},
   "source": [
    "### 3.1 암시적 형변환"
   ]
  },
  {
   "cell_type": "code",
   "execution_count": 126,
   "id": "a19f7085-d632-4b01-948e-5ef40ce9f2ec",
   "metadata": {},
   "outputs": [],
   "source": [
    "a = True\n",
    "b = False\n",
    "c = 1"
   ]
  },
  {
   "cell_type": "code",
   "execution_count": 129,
   "id": "465651d0-5031-437a-b16b-f1c77ac0e6d0",
   "metadata": {},
   "outputs": [
    {
     "name": "stdout",
     "output_type": "stream",
     "text": [
      "1\n",
      "-1\n"
     ]
    }
   ],
   "source": [
    "print(a + b) \n",
    "print(b - c)"
   ]
  },
  {
   "cell_type": "code",
   "execution_count": 133,
   "id": "85a60f62-187b-432f-9781-ef314a3f71c6",
   "metadata": {},
   "outputs": [],
   "source": [
    "int_num = 3\n",
    "float_num = 3.3\n",
    "complex_num = 3 + 3j "
   ]
  },
  {
   "cell_type": "code",
   "execution_count": 135,
   "id": "e581ab20-a079-4a48-ad95-190f6a871397",
   "metadata": {},
   "outputs": [
    {
     "name": "stdout",
     "output_type": "stream",
     "text": [
      "<class 'float'>\n",
      "(6.3+3j)\n"
     ]
    }
   ],
   "source": [
    "print(type(int_num + float_num))\n",
    "print(float_num + complex_num) #서로 다른 데이터 타입 연산"
   ]
  },
  {
   "cell_type": "markdown",
   "id": "86b58834-6104-4731-8ec1-5928363e005e",
   "metadata": {},
   "source": [
    "### 3.2 명시적 형변환 \n",
    "\n",
    "- int() : string, float => int\n",
    "- float() : string, int => float\n",
    "- str() : int, float => string\n",
    "- bool() : int, list, string => bool"
   ]
  },
  {
   "cell_type": "code",
   "execution_count": 136,
   "id": "306187a7-f8e9-465a-b4f5-263bdaf0b0e8",
   "metadata": {},
   "outputs": [],
   "source": [
    "a = 1\n",
    "b = \"변\""
   ]
  },
  {
   "cell_type": "markdown",
   "id": "16f86dc1-cda0-44d7-9508-4c2082604ed4",
   "metadata": {},
   "source": [
    "print(a+b)"
   ]
  },
  {
   "cell_type": "code",
   "execution_count": 139,
   "id": "143c09e9-caab-4455-8e17-10771e01ed41",
   "metadata": {},
   "outputs": [
    {
     "name": "stdout",
     "output_type": "stream",
     "text": [
      "1변\n"
     ]
    }
   ],
   "source": [
    "print(str(a)+b)"
   ]
  },
  {
   "cell_type": "code",
   "execution_count": 142,
   "id": "582f7466-3eb4-4d65-b119-9f7c8929dd89",
   "metadata": {},
   "outputs": [
    {
     "name": "stdout",
     "output_type": "stream",
     "text": [
      "<class 'str'>\n",
      "<class 'int'>\n"
     ]
    }
   ],
   "source": [
    "a = '3'\n",
    "print(type(a))\n",
    "print(type(int(a)))"
   ]
  },
  {
   "cell_type": "markdown",
   "id": "9ffb034c-509c-4ffd-82c1-6c53c92e3953",
   "metadata": {},
   "source": [
    "a = 'a'\n",
    "print(int(a)) #바꿀 수 없음. 상황에 따라서 허용된 범위 내에서만 변경 가능함"
   ]
  },
  {
   "cell_type": "code",
   "execution_count": 147,
   "id": "77605b2e-4d5b-4426-a66f-98dc242eaeb2",
   "metadata": {},
   "outputs": [
    {
     "name": "stdout",
     "output_type": "stream",
     "text": [
      "3.3\n"
     ]
    }
   ],
   "source": [
    "a = 3.3\n",
    "print(float(a))"
   ]
  },
  {
   "cell_type": "code",
   "execution_count": 148,
   "id": "648fdb26-38c4-457b-9c9a-d4fc3656e0e8",
   "metadata": {},
   "outputs": [
    {
     "name": "stdout",
     "output_type": "stream",
     "text": [
      "True\n",
      "False\n"
     ]
    }
   ],
   "source": [
    "a = 1\n",
    "b = 0\n",
    "\n",
    "print(bool(a))\n",
    "print(bool(b))"
   ]
  },
  {
   "cell_type": "code",
   "execution_count": 149,
   "id": "26b67d31-80e8-4434-9170-df93a1077fb6",
   "metadata": {},
   "outputs": [
    {
     "name": "stdout",
     "output_type": "stream",
     "text": [
      "False\n",
      "True\n"
     ]
    }
   ],
   "source": [
    "print(bool([]))\n",
    "print(bool([1, 2, 3]))"
   ]
  },
  {
   "cell_type": "markdown",
   "id": "7fca556e-00ee-45ce-85d2-b41a6a775264",
   "metadata": {},
   "source": [
    "## 4. 시퀸스 자료형\n",
    "\n",
    "시퀸스는 데이터의 순서대로 나열된 자료구조. (순서대로 나열되었다는 것은 정렬된 것과 다르다)\n",
    "\n",
    "1. List\n",
    "2. Tuple\n",
    "3. Range\n",
    "4. String"
   ]
  },
  {
   "cell_type": "markdown",
   "id": "21faacd1-e096-4cd5-8f9f-da454c49daa3",
   "metadata": {},
   "source": [
    "### 4.1 List (리스트, 배열)\n",
    "\n",
    "- 선언 : 변수 이름 = [value1, value2, value3 ...]\n",
    "- 접근 : 변수이름[index]"
   ]
  },
  {
   "cell_type": "code",
   "execution_count": 151,
   "id": "45209ef0-f5f8-47d0-84ae-fbd14c8762dc",
   "metadata": {},
   "outputs": [
    {
     "name": "stdout",
     "output_type": "stream",
     "text": [
      "[]\n",
      "<class 'list'>\n"
     ]
    }
   ],
   "source": [
    "l = []\n",
    "print(l)\n",
    "print(type(l))"
   ]
  },
  {
   "cell_type": "code",
   "execution_count": 153,
   "id": "1c2ea4a3-d82e-4df6-813a-1f22c0abcbcc",
   "metadata": {},
   "outputs": [
    {
     "name": "stdout",
     "output_type": "stream",
     "text": [
      "['서울', '대전', '부산']\n",
      "서울\n"
     ]
    }
   ],
   "source": [
    "location = [\"서울\", \"대전\", \"부산\"]\n",
    "print(location)\n",
    "print(location[0])"
   ]
  },
  {
   "cell_type": "code",
   "execution_count": 156,
   "id": "d9e1344a-8af6-4bf9-87b4-1631269718b9",
   "metadata": {},
   "outputs": [
    {
     "data": {
      "text/plain": [
       "['서울', '광주', '부산']"
      ]
     },
     "execution_count": 156,
     "metadata": {},
     "output_type": "execute_result"
    }
   ],
   "source": [
    "location[1] = '광주'\n",
    "location"
   ]
  },
  {
   "cell_type": "markdown",
   "id": "eaca3810-82f9-4518-a65e-8b76e7a37626",
   "metadata": {},
   "source": [
    "### 4.2 Tuple(튜플)\n",
    "- 선언 : 변수이름 = (value1, value2, value3)\n",
    "- 접근 : 변수이름[index]\n",
    "- 리스트와 유사하지만 수정 불가능(immutable)이다."
   ]
  },
  {
   "cell_type": "code",
   "execution_count": 160,
   "id": "fe3a8e8f-5e40-46dc-8014-ea522a17a674",
   "metadata": {},
   "outputs": [
    {
     "name": "stdout",
     "output_type": "stream",
     "text": [
      "(1, 2, 3)\n",
      "2\n"
     ]
    }
   ],
   "source": [
    "numbers = (1,2,3)\n",
    "print(numbers)\n",
    "print(numbers[1])"
   ]
  },
  {
   "cell_type": "markdown",
   "id": "bef3e8f9-ca5a-481d-b4a9-0d4cb2bd0637",
   "metadata": {},
   "source": [
    "numbers[1] = 654 #immutable 하기 때문에 변경 x"
   ]
  },
  {
   "cell_type": "code",
   "execution_count": 164,
   "id": "ab6384a3-7728-4166-9abb-fcd383656836",
   "metadata": {},
   "outputs": [
    {
     "name": "stdout",
     "output_type": "stream",
     "text": [
      "1 2\n",
      "2 1\n"
     ]
    }
   ],
   "source": [
    "x, y = (1, 2)\n",
    "print(x, y)\n",
    "\n",
    "x, y = y,x \n",
    "print(x,y)"
   ]
  },
  {
   "cell_type": "markdown",
   "id": "d8d5c6ee-3952-4ca5-8b26-cf6fc3282651",
   "metadata": {},
   "source": [
    "### 4.3 Range\n",
    "\n",
    "- range(n) : 0부터 n-1까지 범위\n",
    "- range(n,m): n부터 m-1까지 범위\n",
    "- range(n,m,s) : n부터 m-1까지 +s만큼 증가하는 범위"
   ]
  },
  {
   "cell_type": "code",
   "execution_count": 171,
   "id": "3d603e74-be32-41d2-87a2-f62535fd3226",
   "metadata": {},
   "outputs": [
    {
     "name": "stdout",
     "output_type": "stream",
     "text": [
      "range(0, 45)\n",
      "[0, 1, 2, 3, 4, 5, 6, 7, 8, 9, 10, 11, 12, 13, 14, 15, 16, 17, 18, 19, 20, 21, 22, 23, 24, 25, 26, 27, 28, 29, 30, 31, 32, 33, 34, 35, 36, 37, 38, 39, 40, 41, 42, 43, 44]\n"
     ]
    }
   ],
   "source": [
    "lotto = range(45)\n",
    "print(lotto)\n",
    "print(list(lotto))"
   ]
  },
  {
   "cell_type": "code",
   "execution_count": 173,
   "id": "14e26a58-d5d8-429d-b3df-c79502418eef",
   "metadata": {},
   "outputs": [
    {
     "name": "stdout",
     "output_type": "stream",
     "text": [
      "range(5, 10)\n",
      "[5, 6, 7, 8, 9]\n"
     ]
    }
   ],
   "source": [
    "numbers = range(5, 10)\n",
    "print(numbers)\n",
    "print(list(numbers))"
   ]
  },
  {
   "cell_type": "code",
   "execution_count": 176,
   "id": "bd9b6250-05bf-46b3-b19f-2600cdb9dddb",
   "metadata": {},
   "outputs": [
    {
     "name": "stdout",
     "output_type": "stream",
     "text": [
      "[2, 4, 6, 8, 10, 12, 14, 16, 18]\n"
     ]
    }
   ],
   "source": [
    "even = range(2, 20, 2)\n",
    "print(list(even))"
   ]
  },
  {
   "cell_type": "code",
   "execution_count": 181,
   "id": "3086a73a-2058-4bc4-999a-7617c1b5f88c",
   "metadata": {},
   "outputs": [
    {
     "name": "stdout",
     "output_type": "stream",
     "text": [
      "range(0, -10, -2)\n",
      "[0, -2, -4, -6, -8]\n"
     ]
    }
   ],
   "source": [
    "numbers = range(0, -10 ,-2)\n",
    "print(numbers)\n",
    "print(list(numbers))"
   ]
  },
  {
   "cell_type": "markdown",
   "id": "5e5b4589-9a94-40d6-bdec-d433611f410e",
   "metadata": {},
   "source": [
    "### 4.4 string\n",
    "기본 데이터 구조 참고"
   ]
  },
  {
   "cell_type": "markdown",
   "id": "1a567657-313d-427a-94fe-5a4da3d9a0d7",
   "metadata": {},
   "source": [
    "### 4.5 시퀀스에서 활용가능한 연산/함수"
   ]
  },
  {
   "cell_type": "code",
   "execution_count": 184,
   "id": "0ee0e09a-c649-410b-a3fc-14f54e20180f",
   "metadata": {},
   "outputs": [],
   "source": [
    "my_list = [1,2,3,4,5]\n",
    "my_tuple = (1,2,3,4,5)\n",
    "my_range = range(5)\n",
    "my_string = '12345'"
   ]
  },
  {
   "cell_type": "code",
   "execution_count": 186,
   "id": "a4e3cd29-39c5-4714-8d88-a34aa47f5d5d",
   "metadata": {},
   "outputs": [
    {
     "name": "stdout",
     "output_type": "stream",
     "text": [
      "1\n",
      "1\n",
      "0\n",
      "1\n"
     ]
    }
   ],
   "source": [
    "#indexing\n",
    "print(my_list[0])\n",
    "print(my_tuple[0])\n",
    "print(my_range[0]) #시퀀스 형은 모두 indexing 접근이 가능하다\n",
    "print(my_string[0])"
   ]
  },
  {
   "cell_type": "code",
   "execution_count": 190,
   "id": "3ad36da2-e9ed-4228-92b1-f3d496287232",
   "metadata": {},
   "outputs": [
    {
     "name": "stdout",
     "output_type": "stream",
     "text": [
      "[2, 3]\n",
      "(2, 3)\n",
      "range(1, 3)\n",
      "23\n",
      "13\n"
     ]
    }
   ],
   "source": [
    "#slicing \n",
    "print(my_list[1:3])\n",
    "print(my_tuple[1:3])\n",
    "print(my_range[1:3])\n",
    "print(my_string[1:3])\n",
    "\n",
    "print(my_string[0:4:2])"
   ]
  },
  {
   "cell_type": "code",
   "execution_count": 191,
   "id": "8f7f7aed-40cd-4225-9a80-cdd5ab9bc8b5",
   "metadata": {},
   "outputs": [
    {
     "name": "stdout",
     "output_type": "stream",
     "text": [
      "True\n",
      "True\n",
      "True\n",
      "False\n"
     ]
    }
   ],
   "source": [
    "#in \n",
    "print(1 in my_list)\n",
    "print(1 in my_tuple)\n",
    "print('1' in my_string)\n",
    "\n",
    "#not in\n",
    "print(1 not in my_list)"
   ]
  },
  {
   "cell_type": "code",
   "execution_count": 195,
   "id": "bb9f959e-6168-431d-817c-f03c3a848b62",
   "metadata": {},
   "outputs": [
    {
     "name": "stdout",
     "output_type": "stream",
     "text": [
      "[1, 2, 3, 4, 5, 6, 7, 8, 9, 10]\n",
      "(1, 2, 3, 4, 5, 6, 7, 8, 9, 10)\n",
      "12345678910\n"
     ]
    }
   ],
   "source": [
    "# concatenation\n",
    "print(my_list + [6, 7, 8, 9, 10])\n",
    "print(my_tuple + (6, 7, 8, 9, 10))\n",
    "print(my_string + '678910')"
   ]
  },
  {
   "cell_type": "code",
   "execution_count": 197,
   "id": "56a90935-c403-442d-833b-662a103bf625",
   "metadata": {},
   "outputs": [
    {
     "name": "stdout",
     "output_type": "stream",
     "text": [
      "#\n"
     ]
    }
   ],
   "source": [
    "# * \n",
    "print('#')"
   ]
  },
  {
   "cell_type": "code",
   "execution_count": 201,
   "id": "edb93310-b963-4e37-a97e-bdb7920e95c5",
   "metadata": {},
   "outputs": [
    {
     "name": "stdout",
     "output_type": "stream",
     "text": [
      "##########\n",
      "[0, 0, 0, 0, 0, 0, 0, 0, 0, 0]\n"
     ]
    }
   ],
   "source": [
    "print('#'* 10) \n",
    "print([0]*10)"
   ]
  },
  {
   "cell_type": "code",
   "execution_count": 207,
   "id": "f849d5b4-9270-466e-af16-6fa3c9666c47",
   "metadata": {},
   "outputs": [
    {
     "name": "stdout",
     "output_type": "stream",
     "text": [
      "5\n"
     ]
    }
   ],
   "source": [
    "print(len(my_list))"
   ]
  },
  {
   "cell_type": "code",
   "execution_count": 209,
   "id": "a0df27de-dd6b-4456-828b-ec3abd42da73",
   "metadata": {},
   "outputs": [
    {
     "name": "stdout",
     "output_type": "stream",
     "text": [
      "5\n"
     ]
    }
   ],
   "source": [
    "print(max(my_list))"
   ]
  },
  {
   "cell_type": "code",
   "execution_count": 208,
   "id": "cc94553c-53f6-4aa7-94c4-99ce6f63e7db",
   "metadata": {},
   "outputs": [
    {
     "name": "stdout",
     "output_type": "stream",
     "text": [
      "1\n"
     ]
    }
   ],
   "source": [
    "print(min(my_list))"
   ]
  },
  {
   "cell_type": "markdown",
   "id": "be04471f-9f26-4f10-9cc1-23e498279d80",
   "metadata": {},
   "source": [
    "## 5. 시퀀스가 아닌 자료구조 "
   ]
  },
  {
   "cell_type": "markdown",
   "id": "8c3fc6a3-2eb7-4aed-80f0-c7f78d82ac09",
   "metadata": {},
   "source": [
    "### 5.1 set\n",
    "수학에서 사용하는 집합과 동일한 개념 (중복값이 없음)\n",
    "set= {value1, value2, value 3...}"
   ]
  },
  {
   "cell_type": "code",
   "execution_count": 4,
   "id": "6a392296-608c-48f6-8954-2b5109da98d3",
   "metadata": {},
   "outputs": [],
   "source": [
    "set_a = {1,3,5,7,9}\n",
    "set_b = {1,2, 4, 5, 4}"
   ]
  },
  {
   "cell_type": "code",
   "execution_count": 6,
   "id": "4f6718dd-0438-4a9d-bbf0-ddae518fdf2d",
   "metadata": {},
   "outputs": [
    {
     "name": "stdout",
     "output_type": "stream",
     "text": [
      "{9, 3, 7}\n"
     ]
    }
   ],
   "source": [
    "print(set_a - set_b) #중복값이 존재하지 않음"
   ]
  },
  {
   "cell_type": "markdown",
   "id": "4b8f7dfc-4379-455d-bcd5-06941e94401c",
   "metadata": {},
   "source": [
    "### 5.2 Dictionary\n",
    "\n",
    "- 선언 : 변수 이름 = {key 1 : value1, key2: value2 ... }\n",
    "- 접근 : 변수이름[key]"
   ]
  },
  {
   "cell_type": "code",
   "execution_count": 7,
   "id": "7f0abaa9-7c23-4f7d-ad5c-55b744e3f262",
   "metadata": {},
   "outputs": [
    {
     "name": "stdout",
     "output_type": "stream",
     "text": [
      "{'서울': '02', '경기': '031'}\n"
     ]
    }
   ],
   "source": [
    "my_dict = {'서울': '02', '경기': '031'}\n",
    "print(my_dict)"
   ]
  },
  {
   "cell_type": "code",
   "execution_count": 10,
   "id": "3c79b6da-5613-4303-8c58-9783f43f6e61",
   "metadata": {},
   "outputs": [
    {
     "data": {
      "text/plain": [
       "'02'"
      ]
     },
     "execution_count": 10,
     "metadata": {},
     "output_type": "execute_result"
    }
   ],
   "source": [
    "my_dict['서울']"
   ]
  },
  {
   "cell_type": "code",
   "execution_count": 11,
   "id": "12054a73-0b74-4592-9285-ce54a705fba4",
   "metadata": {},
   "outputs": [
    {
     "name": "stdout",
     "output_type": "stream",
     "text": [
      "seoul\n"
     ]
    }
   ],
   "source": [
    "my_info = {\n",
    "    'name': 'jiwon', \n",
    "    'location':'seoul',\n",
    "    'age': 10,\n",
    "}\n",
    "print(my_info['location'])"
   ]
  },
  {
   "cell_type": "code",
   "execution_count": 12,
   "id": "76c2ab85-9262-48ad-8531-e52eb5bba0ec",
   "metadata": {},
   "outputs": [
    {
     "data": {
      "text/plain": [
       "dict_keys(['name', 'location', 'age'])"
      ]
     },
     "execution_count": 12,
     "metadata": {},
     "output_type": "execute_result"
    }
   ],
   "source": [
    "my_info.keys() #키들에 대한 목록을 보여줘 "
   ]
  },
  {
   "cell_type": "code",
   "execution_count": 13,
   "id": "5069d1fe-2683-4007-83f2-59e225c6cdfa",
   "metadata": {},
   "outputs": [
    {
     "data": {
      "text/plain": [
       "dict_values(['jiwon', 'seoul', 10])"
      ]
     },
     "execution_count": 13,
     "metadata": {},
     "output_type": "execute_result"
    }
   ],
   "source": [
    "my_info.values() #values에 대한 목록을 보여줘"
   ]
  },
  {
   "cell_type": "markdown",
   "id": "3bf0ed05-eed3-46f5-bc0b-dd519d25a7ce",
   "metadata": {
    "jp-MarkdownHeadingCollapsed": true
   },
   "source": [
    "##### 데이터 타입 \n",
    "1. Number\n",
    "2. Boolean\n",
    "3. String\n",
    "\n",
    "##### 자료구조 \n",
    "-시퀀스 자료형 \n",
    "\n",
    "1. [List] : mutable\n",
    "2. (Tuple) : immutable\n",
    "3. range() : immutable\n",
    "4. 'String' : immutable\n",
    "\n",
    "- 시퀀스가 아닌 자료형 \n",
    "\n",
    "1. {set} : mutable\n",
    "2. {Dict : ionary} : mutable"
   ]
  },
  {
   "cell_type": "code",
   "execution_count": null,
   "id": "5c46771a-6bbf-4575-b895-4b3f8d7bb74c",
   "metadata": {},
   "outputs": [],
   "source": []
  }
 ],
 "metadata": {
  "kernelspec": {
   "display_name": "Python 3 (ipykernel)",
   "language": "python",
   "name": "python3"
  },
  "language_info": {
   "codemirror_mode": {
    "name": "ipython",
    "version": 3
   },
   "file_extension": ".py",
   "mimetype": "text/x-python",
   "name": "python",
   "nbconvert_exporter": "python",
   "pygments_lexer": "ipython3",
   "version": "3.9.2"
  }
 },
 "nbformat": 4,
 "nbformat_minor": 5
}
