{
 "cells": [
  {
   "cell_type": "code",
   "execution_count": 1,
   "id": "b9b184aa-f8b9-47b5-8efe-aeff94138eb5",
   "metadata": {},
   "outputs": [
    {
     "name": "stdout",
     "output_type": "stream",
     "text": [
      "hello\n"
     ]
    }
   ],
   "source": [
    "print(\"hello\")"
   ]
  },
  {
   "cell_type": "code",
   "execution_count": 2,
   "id": "08d1e26f-0a19-463e-8a50-3823e99e081c",
   "metadata": {},
   "outputs": [
    {
     "name": "stdout",
     "output_type": "stream",
     "text": [
      "['__add__', '__class__', '__contains__', '__delattr__', '__dir__', '__doc__', '__eq__', '__format__', '__ge__', '__getattribute__', '__getitem__', '__getnewargs__', '__gt__', '__hash__', '__init__', '__init_subclass__', '__iter__', '__le__', '__len__', '__lt__', '__mod__', '__mul__', '__ne__', '__new__', '__reduce__', '__reduce_ex__', '__repr__', '__rmod__', '__rmul__', '__setattr__', '__sizeof__', '__str__', '__subclasshook__', 'capitalize', 'casefold', 'center', 'count', 'encode', 'endswith', 'expandtabs', 'find', 'format', 'format_map', 'index', 'isalnum', 'isalpha', 'isascii', 'isdecimal', 'isdigit', 'isidentifier', 'islower', 'isnumeric', 'isprintable', 'isspace', 'istitle', 'isupper', 'join', 'ljust', 'lower', 'lstrip', 'maketrans', 'partition', 'removeprefix', 'removesuffix', 'replace', 'rfind', 'rindex', 'rjust', 'rpartition', 'rsplit', 'rstrip', 'split', 'splitlines', 'startswith', 'strip', 'swapcase', 'title', 'translate', 'upper', 'zfill']\n"
     ]
    }
   ],
   "source": [
    "print(dir(\"hello\"))"
   ]
  },
  {
   "cell_type": "markdown",
   "id": "5831cad9-b038-4eba-842d-8dab3fc46550",
   "metadata": {},
   "source": [
    "## 문자열 메소드 "
   ]
  },
  {
   "cell_type": "code",
   "execution_count": 3,
   "id": "19ef9eea-74cf-481f-a98d-fb7bde3b1b5b",
   "metadata": {},
   "outputs": [],
   "source": [
    "a = \"hello my name is hong\" #immutable하다 (변환 할 수 x) "
   ]
  },
  {
   "cell_type": "code",
   "execution_count": 4,
   "id": "f34336b4-44e3-44d0-921a-0dbc801c1e6b",
   "metadata": {},
   "outputs": [
    {
     "name": "stdout",
     "output_type": "stream",
     "text": [
      "hello my name is hong\n"
     ]
    }
   ],
   "source": [
    "print(a)"
   ]
  },
  {
   "cell_type": "code",
   "execution_count": 6,
   "id": "58751f56-d185-4739-844d-b8633e9e8195",
   "metadata": {},
   "outputs": [
    {
     "data": {
      "text/plain": [
       "'HELLO MY NAME IS HONG'"
      ]
     },
     "execution_count": 6,
     "metadata": {},
     "output_type": "execute_result"
    }
   ],
   "source": [
    "a = a.upper() #할당하기 \n",
    "a"
   ]
  },
  {
   "cell_type": "code",
   "execution_count": 7,
   "id": "38808b2f-4085-41d9-8b7c-1f455638f4cb",
   "metadata": {},
   "outputs": [
    {
     "data": {
      "text/plain": [
       "'hello my name is hong'"
      ]
     },
     "execution_count": 7,
     "metadata": {},
     "output_type": "execute_result"
    }
   ],
   "source": [
    "a.lower()"
   ]
  },
  {
   "cell_type": "code",
   "execution_count": 11,
   "id": "e2476bfd-8a8a-4d51-b98b-42bcf8efbcca",
   "metadata": {},
   "outputs": [],
   "source": [
    "my_list = ['my', 'name', 'is']"
   ]
  },
  {
   "cell_type": "code",
   "execution_count": 15,
   "id": "2636bb89-2115-4091-b6a3-1e225ea5914c",
   "metadata": {},
   "outputs": [
    {
     "name": "stdout",
     "output_type": "stream",
     "text": [
      "my name is\n"
     ]
    }
   ],
   "source": [
    "print(' '.join(my_list)) #join 안에 반복 가능한 객체 넣기"
   ]
  },
  {
   "cell_type": "code",
   "execution_count": 18,
   "id": "52b52001-6bc2-474d-816a-a8d2316c7e78",
   "metadata": {},
   "outputs": [
    {
     "name": "stdout",
     "output_type": "stream",
     "text": [
      "                        hello \n",
      "\n"
     ]
    }
   ],
   "source": [
    "my_string = '                        hello \\n'\n",
    "print(my_string)"
   ]
  },
  {
   "cell_type": "code",
   "execution_count": 19,
   "id": "ccef98c5-7327-45e3-8c62-bb00f3fe1adf",
   "metadata": {},
   "outputs": [
    {
     "data": {
      "text/plain": [
       "'hello'"
      ]
     },
     "execution_count": 19,
     "metadata": {},
     "output_type": "execute_result"
    }
   ],
   "source": [
    "my_string.strip()"
   ]
  },
  {
   "cell_type": "code",
   "execution_count": 21,
   "id": "609be9ff-d2ca-4988-9a15-86b8eec9a335",
   "metadata": {},
   "outputs": [],
   "source": [
    "# l.strip() 왼쪽에 있는 것\n",
    "# r.strip() 오른쪽에 있는 것 \n",
    "\n",
    "my_string2 = '----------------hihihihihihihihihihihihihihih'"
   ]
  },
  {
   "cell_type": "code",
   "execution_count": 22,
   "id": "17fbb029-a4fe-41f2-b304-4eb642426219",
   "metadata": {},
   "outputs": [
    {
     "data": {
      "text/plain": [
       "'hihihihihihihihihihihihihihih'"
      ]
     },
     "execution_count": 22,
     "metadata": {},
     "output_type": "execute_result"
    }
   ],
   "source": [
    "my_string2.strip('-') #제거 하고 싶은 규칙 넣기 "
   ]
  },
  {
   "cell_type": "code",
   "execution_count": 23,
   "id": "434742a0-8393-4995-9408-a7e6f24a6838",
   "metadata": {},
   "outputs": [
    {
     "data": {
      "text/plain": [
       "'wooooooooooooooow'"
      ]
     },
     "execution_count": 23,
     "metadata": {},
     "output_type": "execute_result"
    }
   ],
   "source": [
    "a = 'woooooooooooooooooow'\n",
    "a.replace('o','',3)"
   ]
  },
  {
   "cell_type": "code",
   "execution_count": 29,
   "id": "fe0c4448-7f6b-471f-a56b-fa1a944fcb72",
   "metadata": {},
   "outputs": [
    {
     "name": "stdout",
     "output_type": "stream",
     "text": [
      "0\n"
     ]
    }
   ],
   "source": [
    "a = 'apple'\n",
    "print(a.find('a'))"
   ]
  },
  {
   "cell_type": "code",
   "execution_count": 30,
   "id": "61c62240-1982-4baa-bc72-1f02faec6363",
   "metadata": {},
   "outputs": [
    {
     "name": "stdout",
     "output_type": "stream",
     "text": [
      "0\n",
      "1\n"
     ]
    }
   ],
   "source": [
    "a = 'apple'\n",
    "print(a.index('a'))\n",
    "print(a.index('p'))"
   ]
  },
  {
   "cell_type": "code",
   "execution_count": 31,
   "id": "6e1ad25c-126f-4498-8665-6e14038dc257",
   "metadata": {},
   "outputs": [
    {
     "data": {
      "text/plain": [
       "['my name is hong']"
      ]
     },
     "execution_count": 31,
     "metadata": {},
     "output_type": "execute_result"
    }
   ],
   "source": [
    "a = 'my name is hong'\n",
    "a.split('__')"
   ]
  },
  {
   "cell_type": "code",
   "execution_count": 32,
   "id": "5ebafbe5-77cf-4f01-bc33-58cc074d0a62",
   "metadata": {},
   "outputs": [
    {
     "data": {
      "text/plain": [
       "9"
      ]
     },
     "execution_count": 32,
     "metadata": {},
     "output_type": "execute_result"
    }
   ],
   "source": [
    "a = 'wooooooooo'\n",
    "a.count('o')"
   ]
  },
  {
   "cell_type": "markdown",
   "id": "d4eaebc1-393d-4649-a14a-b5476a36cf4b",
   "metadata": {},
   "source": [
    "## 리스트 메소드 "
   ]
  },
  {
   "cell_type": "code",
   "execution_count": 41,
   "id": "d41be6b2-a6e2-470f-b585-c1b530ac2bea",
   "metadata": {},
   "outputs": [],
   "source": [
    "numbers = [1, 4, 3, 6, 8, 9, 3]"
   ]
  },
  {
   "cell_type": "code",
   "execution_count": 42,
   "id": "9482c2eb-ba51-489e-98c6-7524ddc089d4",
   "metadata": {},
   "outputs": [],
   "source": [
    "numbers.append(10)"
   ]
  },
  {
   "cell_type": "code",
   "execution_count": 43,
   "id": "79e86cd7-c04d-40e0-b9a4-227a8f09cb98",
   "metadata": {},
   "outputs": [
    {
     "data": {
      "text/plain": [
       "[1, 4, 3, 6, 8, 9, 3, 10]"
      ]
     },
     "execution_count": 43,
     "metadata": {},
     "output_type": "execute_result"
    }
   ],
   "source": [
    "numbers"
   ]
  },
  {
   "cell_type": "code",
   "execution_count": 44,
   "id": "f492c549-3b0d-4541-b210-395225ab51e4",
   "metadata": {},
   "outputs": [
    {
     "name": "stdout",
     "output_type": "stream",
     "text": [
      "[1, 4, 3, 6, 8, 9, 3, 10, 99, 100]\n"
     ]
    }
   ],
   "source": [
    "a = [99, 100]\n",
    "\n",
    "numbers.extend(a)\n",
    "print(numbers)"
   ]
  },
  {
   "cell_type": "code",
   "execution_count": 46,
   "id": "9e2b8385-5116-4cab-898a-fba8c3e65232",
   "metadata": {},
   "outputs": [
    {
     "name": "stdout",
     "output_type": "stream",
     "text": [
      "[1, 4, 3, 6, 8, 9, 3, 10, 99, 100, 99, 100, 99, 100]\n"
     ]
    }
   ],
   "source": [
    "numbers = numbers + a\n",
    "print(numbers)"
   ]
  },
  {
   "cell_type": "code",
   "execution_count": 49,
   "id": "520984b8-ee59-4271-938e-3c403124b5bc",
   "metadata": {
    "scrolled": true
   },
   "outputs": [
    {
     "name": "stdout",
     "output_type": "stream",
     "text": [
      "[-10, -10, 1, 4, 3, 6, 8, 9, 3, 10, 99, 100, 99, 100, 99, 100]\n"
     ]
    }
   ],
   "source": [
    "numbers.insert(0,-10)\n",
    "print(numbers)"
   ]
  },
  {
   "cell_type": "code",
   "execution_count": 51,
   "id": "fb893751-ccab-4a7b-8edd-d70f289e6626",
   "metadata": {},
   "outputs": [
    {
     "name": "stdout",
     "output_type": "stream",
     "text": [
      "[1, 4, 3, 6, 8, 9, 3, 10, 99, 100, 99, 100, 99, 100]\n"
     ]
    }
   ],
   "source": [
    "#x를 찾아서 제거 없으면 에러 \n",
    "numbers.remove(-10)\n",
    "print(numbers)"
   ]
  },
  {
   "cell_type": "code",
   "execution_count": 52,
   "id": "ccdbcd8f-18cf-4bd1-b6e2-07af40f45064",
   "metadata": {},
   "outputs": [
    {
     "data": {
      "text/plain": [
       "100"
      ]
     },
     "execution_count": 52,
     "metadata": {},
     "output_type": "execute_result"
    }
   ],
   "source": [
    "numbers.pop()"
   ]
  },
  {
   "cell_type": "code",
   "execution_count": 53,
   "id": "089f078d-63e3-4dd6-b891-a0f61ae00066",
   "metadata": {},
   "outputs": [
    {
     "data": {
      "text/plain": [
       "1"
      ]
     },
     "execution_count": 53,
     "metadata": {},
     "output_type": "execute_result"
    }
   ],
   "source": [
    "numbers.pop(0)"
   ]
  },
  {
   "cell_type": "code",
   "execution_count": 54,
   "id": "5462c964-bab6-447c-84e5-205ed3b743ce",
   "metadata": {},
   "outputs": [
    {
     "name": "stdout",
     "output_type": "stream",
     "text": [
      "[3, 3, 4, 6, 8, 9, 10, 99, 99, 99, 100, 100]\n"
     ]
    }
   ],
   "source": [
    "numbers.sort()\n",
    "print(numbers)"
   ]
  },
  {
   "cell_type": "code",
   "execution_count": 56,
   "id": "d5c425c6-30e0-47d8-b5be-cfda7ecfb5c8",
   "metadata": {},
   "outputs": [
    {
     "name": "stdout",
     "output_type": "stream",
     "text": [
      "[1, 2, 3, 3, 5, 7, 8]\n",
      "[5, 3, 7, 1, 8, 2, 3]\n"
     ]
    }
   ],
   "source": [
    "numbers = [5, 3, 7, 1, 8, 2, 3]\n",
    "print(sorted(numbers)) #배열이 정렬되었을 때 결과만 알려\n",
    "print(numbers)"
   ]
  },
  {
   "cell_type": "code",
   "execution_count": 57,
   "id": "b6c42a1c-8c73-4f53-acb9-b24e7ac9f528",
   "metadata": {},
   "outputs": [
    {
     "name": "stdout",
     "output_type": "stream",
     "text": [
      "['a', 'a', 'b', 'c', 'e', 'f']\n"
     ]
    }
   ],
   "source": [
    "my_list = ['b', 'c', 'a', 'e', 'f', 'a']\n",
    "my_list.sort()\n",
    "print(my_list)"
   ]
  },
  {
   "cell_type": "code",
   "execution_count": 59,
   "id": "6a22ec07-d313-4388-a4ed-9511ebfaeef2",
   "metadata": {},
   "outputs": [
    {
     "name": "stdout",
     "output_type": "stream",
     "text": [
      "[5, 3, 7, 1, 8, 2, 3]\n",
      "[3, 7]\n"
     ]
    }
   ],
   "source": [
    "print(numbers)\n",
    "print(numbers[1:3])"
   ]
  },
  {
   "cell_type": "code",
   "execution_count": 60,
   "id": "bcc6837b-35f5-415c-9c1c-4a5011cd2f63",
   "metadata": {},
   "outputs": [
    {
     "name": "stdout",
     "output_type": "stream",
     "text": [
      "2\n"
     ]
    }
   ],
   "source": [
    "print(numbers[-2])"
   ]
  },
  {
   "cell_type": "markdown",
   "id": "307546be-d822-4142-b8dd-6d74d613c176",
   "metadata": {},
   "source": [
    "## list copy"
   ]
  },
  {
   "cell_type": "code",
   "execution_count": 61,
   "id": "6854d150-4cd1-4d92-9439-1b772692c024",
   "metadata": {},
   "outputs": [],
   "source": [
    "origin_list = [1,2,3]\n",
    "copy_list = origin_list #동일한 객체 참조(같은 메모리 주소 가리킴) 따라서 변경할 경우 원본 리스트도 변경되는 것"
   ]
  },
  {
   "cell_type": "code",
   "execution_count": 63,
   "id": "45930cd3-6973-4cb7-baa6-84683f8c55cb",
   "metadata": {},
   "outputs": [],
   "source": [
    "copy_list[0] = 100"
   ]
  },
  {
   "cell_type": "code",
   "execution_count": 64,
   "id": "bd9c3b6e-f795-45c6-ae23-179c878c6ed3",
   "metadata": {},
   "outputs": [
    {
     "name": "stdout",
     "output_type": "stream",
     "text": [
      "[100, 2, 3]\n",
      "[100, 2, 3]\n"
     ]
    }
   ],
   "source": [
    "print(origin_list)\n",
    "print(copy_list)"
   ]
  },
  {
   "cell_type": "code",
   "execution_count": null,
   "id": "a8cdbdc1-8494-40b6-a76b-9150a093f4c2",
   "metadata": {},
   "outputs": [],
   "source": [
    "origin_list = [1,2,3]\n",
    "copy_list = origin_list[:] #모두 해당되는 경우는 아님"
   ]
  },
  {
   "cell_type": "markdown",
   "id": "218865b6-3a4d-4655-ac80-3c94077927ee",
   "metadata": {},
   "source": [
    "- slicing 방식 , 값 할당, copy() 함수를 이용하면 얕은 복사(shallow copy)일 때는 잘 동작하지만, 2차원 이상의 중첩 리스트에서는 문제가 발생할 수 있음. 따라서, 이때는 깊은 복사를 해야함"
   ]
  },
  {
   "cell_type": "code",
   "execution_count": 65,
   "id": "405a3839-d739-4af4-bdeb-5699029f7d7a",
   "metadata": {},
   "outputs": [
    {
     "name": "stdout",
     "output_type": "stream",
     "text": [
      "[100, 2, [300, 4]]\n",
      "[1, 2, [3, 4]]\n"
     ]
    }
   ],
   "source": [
    "import copy\n",
    "origin_list = [1, 2, [3, 4]]\n",
    "copy_list = copy.deepcopy(origin_list)\n",
    "\n",
    "origin_list[0] = 100\n",
    "origin_list[2][0] = 300\n",
    "\n",
    "print(origin_list)\n",
    "print(copy_list)"
   ]
  },
  {
   "cell_type": "markdown",
   "id": "60a9a6af-43e0-4f1e-be8b-384b4ae183cd",
   "metadata": {},
   "source": [
    "## list comprehension"
   ]
  },
  {
   "cell_type": "code",
   "execution_count": 67,
   "id": "d46da37f-b14e-47a6-9e4f-eb7e8fa347cc",
   "metadata": {},
   "outputs": [
    {
     "name": "stdout",
     "output_type": "stream",
     "text": [
      "[1, 2, 3, 4, 5, 6, 7, 8, 9, 10]\n"
     ]
    }
   ],
   "source": [
    "numbers = list(range(1, 11))\n",
    "print(numbers)"
   ]
  },
  {
   "cell_type": "code",
   "execution_count": 68,
   "id": "984a0d0b-6ff3-4945-a2c5-26db6bbac362",
   "metadata": {},
   "outputs": [
    {
     "name": "stdout",
     "output_type": "stream",
     "text": [
      "[1, 8, 27, 64, 125, 216, 343, 512, 729, 1000]\n"
     ]
    }
   ],
   "source": [
    "numbers = []\n",
    "for i in range(1,11):\n",
    "    numbers.append(i**3)\n",
    "print(numbers)"
   ]
  },
  {
   "cell_type": "markdown",
   "id": "798efc8d-a74e-4022-9bbf-bfdeb2139ffb",
   "metadata": {},
   "source": [
    "-[ ( 변수를 활용한 값 ) for ( 사용할 변수 이름 ) in ( 순회할 수 있는 값 )]"
   ]
  },
  {
   "cell_type": "code",
   "execution_count": 77,
   "id": "ac442ed5-0631-4f7f-9a3d-0fcf766d4c70",
   "metadata": {},
   "outputs": [],
   "source": [
    "numbers = [i**3 for i in range(1,11)]"
   ]
  },
  {
   "cell_type": "code",
   "execution_count": 78,
   "id": "47025dd3-b27a-4e03-bac4-4cc163b601ce",
   "metadata": {},
   "outputs": [
    {
     "name": "stdout",
     "output_type": "stream",
     "text": [
      "[1, 8, 27, 64, 125, 216, 343, 512, 729, 1000]\n"
     ]
    }
   ],
   "source": [
    "print(numbers)"
   ]
  },
  {
   "cell_type": "code",
   "execution_count": 96,
   "id": "b110d42e-4abf-4257-8e13-c7177a289f92",
   "metadata": {},
   "outputs": [],
   "source": [
    "result = [i for i in range(1,11) if i % 2 == 0]"
   ]
  },
  {
   "cell_type": "code",
   "execution_count": 97,
   "id": "cc96fc87-6890-4fbc-a998-1fa996d5f600",
   "metadata": {},
   "outputs": [
    {
     "data": {
      "text/plain": [
       "[2, 4, 6, 8, 10]"
      ]
     },
     "execution_count": 97,
     "metadata": {},
     "output_type": "execute_result"
    }
   ],
   "source": [
    "result"
   ]
  },
  {
   "cell_type": "code",
   "execution_count": 123,
   "id": "04f8fd5f-30a7-4dd3-af96-c968d617205b",
   "metadata": {},
   "outputs": [],
   "source": [
    "words = 'my name is hong' "
   ]
  },
  {
   "cell_type": "code",
   "execution_count": 132,
   "id": "2a8396e1-bda0-4080-94cf-81b78ec13ab9",
   "metadata": {},
   "outputs": [
    {
     "name": "stdout",
     "output_type": "stream",
     "text": [
      "my nm s hng\n"
     ]
    }
   ],
   "source": [
    "# 연습하기\n",
    "words = 'my name is hong' \n",
    "# => 모음만 다 제거하기 \n",
    "words = words.replace('a','').replace('e','').replace('i','').replace('o','').replace('u','')\n",
    "print(''.join(answer))"
   ]
  },
  {
   "cell_type": "code",
   "execution_count": 120,
   "id": "ae90c4c4-40fa-4c13-8407-31335e8c2101",
   "metadata": {},
   "outputs": [
    {
     "name": "stdout",
     "output_type": "stream",
     "text": [
      "my nm s hng\n"
     ]
    }
   ],
   "source": [
    "temp = 'aeiou'\n",
    "answer = ''\n",
    "for i in words:\n",
    "    if i not in temp:\n",
    "        answer += i\n",
    "print(answer)"
   ]
  },
  {
   "cell_type": "code",
   "execution_count": 130,
   "id": "8d162f97-904d-4f9c-a25a-d0f94a5a150f",
   "metadata": {},
   "outputs": [
    {
     "name": "stdout",
     "output_type": "stream",
     "text": [
      "my nm s hng\n"
     ]
    }
   ],
   "source": [
    "answer = [i for i in words if i not in temp]\n",
    "print(''.join(answer))"
   ]
  },
  {
   "cell_type": "code",
   "execution_count": 128,
   "id": "937d52e6-5149-4db2-bce7-ad5784bbda39",
   "metadata": {},
   "outputs": [],
   "source": [
    "words = 'my name is hong' "
   ]
  },
  {
   "cell_type": "markdown",
   "id": "43d41800-435e-4854-a24e-bdc6108c434f",
   "metadata": {},
   "source": [
    "## dictionary 메소드 "
   ]
  },
  {
   "cell_type": "code",
   "execution_count": 133,
   "id": "f59fe52c-4b87-4690-a9fc-fd91aea77c7d",
   "metadata": {},
   "outputs": [],
   "source": [
    "info = {\n",
    "    'name': 'hong',\n",
    "    'location' : 'seoul',\n",
    "    'age' : 20,\n",
    "    'models' : ['iphone', 'mac Book','watch'],\n",
    "    'phone_book': {\n",
    "        'kim': '010-1234-1234',\n",
    "        'lee': '010-4567-4567',\n",
    "    }\n",
    "}"
   ]
  },
  {
   "cell_type": "code",
   "execution_count": 134,
   "id": "49e37722-168b-4f24-b64d-31df59691c87",
   "metadata": {},
   "outputs": [
    {
     "name": "stdout",
     "output_type": "stream",
     "text": [
      "hong\n",
      "20\n"
     ]
    }
   ],
   "source": [
    "print(info['name'])\n",
    "print(info['age'])"
   ]
  },
  {
   "cell_type": "code",
   "execution_count": 135,
   "id": "f9f8e1ea-4825-489a-b3b9-234cc61ff251",
   "metadata": {},
   "outputs": [
    {
     "name": "stdout",
     "output_type": "stream",
     "text": [
      "iphone\n"
     ]
    }
   ],
   "source": [
    "print(info['models'][0])"
   ]
  },
  {
   "cell_type": "code",
   "execution_count": 136,
   "id": "ed93edaa-f7c6-41cb-b96b-914ebc0b3107",
   "metadata": {},
   "outputs": [
    {
     "name": "stdout",
     "output_type": "stream",
     "text": [
      "010-1234-1234\n"
     ]
    }
   ],
   "source": [
    "print(info['phone_book']['kim'])"
   ]
  },
  {
   "cell_type": "code",
   "execution_count": 137,
   "id": "50dcffb7-4e94-4ce1-8ec0-9329f9af44d3",
   "metadata": {},
   "outputs": [
    {
     "name": "stdout",
     "output_type": "stream",
     "text": [
      "{'name': 'park', 'location': 'seoul', 'age': 20, 'models': ['iphone', 'mac Book', 'watch'], 'phone_book': {'kim': '010-1234-1234', 'lee': '010-4567-4567'}}\n"
     ]
    }
   ],
   "source": [
    "info['name'] = 'park'\n",
    "print(info)"
   ]
  },
  {
   "cell_type": "code",
   "execution_count": 138,
   "id": "d2ad8ba4-2f33-4705-9c2b-247f13ef5129",
   "metadata": {},
   "outputs": [
    {
     "name": "stdout",
     "output_type": "stream",
     "text": [
      "{'name': 'oh', 'location': 'seoul', 'age': 20, 'models': ['iphone', 'mac Book', 'watch'], 'phone_book': {'kim': '010-1234-1234', 'lee': '010-4567-4567'}}\n"
     ]
    }
   ],
   "source": [
    "info.update(name='oh')\n",
    "print(info)"
   ]
  },
  {
   "cell_type": "code",
   "execution_count": 139,
   "id": "410e4d2c-5438-41ae-b8da-b42aa7f5cc50",
   "metadata": {},
   "outputs": [
    {
     "name": "stdout",
     "output_type": "stream",
     "text": [
      "{'name': 'oh', 'location': 'seoul', 'models': ['iphone', 'mac Book', 'watch'], 'phone_book': {'kim': '010-1234-1234', 'lee': '010-4567-4567'}} 20\n"
     ]
    }
   ],
   "source": [
    "age = info.pop('age')\n",
    "print(info, age)"
   ]
  },
  {
   "cell_type": "code",
   "execution_count": 140,
   "id": "de5bf52d-b484-4745-9908-d53a0faec227",
   "metadata": {},
   "outputs": [
    {
     "name": "stdout",
     "output_type": "stream",
     "text": [
      "oh\n",
      "oh\n"
     ]
    }
   ],
   "source": [
    "print(info.get('name'))\n",
    "print(info['name'])"
   ]
  },
  {
   "cell_type": "code",
   "execution_count": 149,
   "id": "d58f01cd-78e7-4315-b96a-339bf066ad77",
   "metadata": {},
   "outputs": [
    {
     "name": "stdout",
     "output_type": "stream",
     "text": [
      "{'A': 2, 'B': 2, 'O': 1, 'AB': 1}\n"
     ]
    }
   ],
   "source": [
    "# 연습문제 \n",
    "\n",
    "blood_type = ['A', 'B', 'O', 'AB', 'A', 'B']\n",
    "\n",
    "# => blood_dict 혈액형 별로 몇 명 있는지 코드 \n",
    "\n",
    "blood_dict = {}\n",
    "for i in blood_type : \n",
    "    if i in blood_dict:\n",
    "        blood_dict[i] += 1\n",
    "    else:\n",
    "        blood_dict[i] = 1\n",
    "print(blood_dict)"
   ]
  },
  {
   "cell_type": "code",
   "execution_count": 155,
   "id": "419f8508-cb38-4fe5-8add-2fa7ac829d65",
   "metadata": {},
   "outputs": [
    {
     "name": "stdout",
     "output_type": "stream",
     "text": [
      "{'서울': 2, '대전': 1, '부산': 1, '강릉': 1, 'LA': 1, '도쿄': 1}\n"
     ]
    }
   ],
   "source": [
    "location= ['서울', '대전', '서울', '부산', '강릉','LA','도쿄']\n",
    "#city_dict에 없으면 새로 생성하고 있으면 그냥 +=1 하는 알고리즘 \n",
    "city_dict = {}\n",
    "for city in location:\n",
    "    if city in city_dict:\n",
    "        city_dict[city] += 1\n",
    "    else:\n",
    "        city_dict[city] = 1\n",
    "print(city_dict)"
   ]
  },
  {
   "cell_type": "markdown",
   "id": "56abf5be-5063-4aab-a855-51a05ce62fb0",
   "metadata": {},
   "source": [
    "## dict comprehension"
   ]
  },
  {
   "cell_type": "code",
   "execution_count": 167,
   "id": "39b056d8-5242-4903-a2df-9eaa02d1cf64",
   "metadata": {},
   "outputs": [
    {
     "name": "stdout",
     "output_type": "stream",
     "text": [
      "{1: 1, 2: 8, 3: 27, 4: 64, 5: 125, 6: 216, 7: 343, 8: 512, 9: 729, 10: 1000}\n"
     ]
    }
   ],
   "source": [
    "result = {}\n",
    "\n",
    "\n",
    "for num in numbers:\n",
    "    result[num] = num**3\n",
    "print(result)"
   ]
  },
  {
   "cell_type": "code",
   "execution_count": 166,
   "id": "9eb5d46a-8163-4150-846c-989e9ff68f65",
   "metadata": {},
   "outputs": [
    {
     "name": "stdout",
     "output_type": "stream",
     "text": [
      "{1: 1, 2: 8, 3: 27, 4: 64, 5: 125, 6: 216, 7: 343, 8: 512, 9: 729, 10: 1000}\n"
     ]
    }
   ],
   "source": [
    "result = {number : number **3 for number in numbers}\n",
    "print(result)"
   ]
  },
  {
   "cell_type": "code",
   "execution_count": 169,
   "id": "fd6f2a61-1aa7-4c1d-8f0a-f83a0d4c3d5f",
   "metadata": {
    "scrolled": true
   },
   "outputs": [],
   "source": [
    "dust = {\n",
    "    '서울': 50,\n",
    "    '대전': 100,\n",
    "    '부산': 70,\n",
    "    '광주': 90,\n",
    "}"
   ]
  },
  {
   "cell_type": "code",
   "execution_count": 175,
   "id": "0ce5dfd1-0d5a-4914-a9b8-2b8754d5e322",
   "metadata": {},
   "outputs": [],
   "source": [
    "result = {}\n",
    "for key, value in dust.items():\n",
    "    if value > 70:\n",
    "        result[key] = value"
   ]
  },
  {
   "cell_type": "code",
   "execution_count": 176,
   "id": "87860df8-866d-4f2d-b864-a3c294492f78",
   "metadata": {},
   "outputs": [
    {
     "data": {
      "text/plain": [
       "{'대전': 100, '광주': 90}"
      ]
     },
     "execution_count": 176,
     "metadata": {},
     "output_type": "execute_result"
    }
   ],
   "source": [
    "result"
   ]
  },
  {
   "cell_type": "code",
   "execution_count": 179,
   "id": "23dcf0a0-5161-44f5-8554-7622b1c49755",
   "metadata": {},
   "outputs": [
    {
     "data": {
      "text/plain": [
       "{'대전': 100, '광주': 90}"
      ]
     },
     "execution_count": 179,
     "metadata": {},
     "output_type": "execute_result"
    }
   ],
   "source": [
    "#dict comprehension\n",
    "result = {key : value for key, value in dust.items() if value > 70}\n",
    "result"
   ]
  },
  {
   "cell_type": "markdown",
   "id": "59f25b5f-0843-4d91-bb11-1e0b409a52f0",
   "metadata": {},
   "source": [
    "## 세트 메소드 "
   ]
  },
  {
   "cell_type": "code",
   "execution_count": 3,
   "id": "41900a5f-70f8-49d1-a966-9621e222d06f",
   "metadata": {},
   "outputs": [
    {
     "name": "stdout",
     "output_type": "stream",
     "text": [
      "{'banana', 'apple', 'melon'}\n"
     ]
    }
   ],
   "source": [
    "#집합으로 표현함 \n",
    "fruits = {'apple', 'banana','melon', 'apple'}\n",
    "print(fruits)"
   ]
  },
  {
   "cell_type": "markdown",
   "id": "ae47dfb2-461e-4ed2-b859-05799eaf5632",
   "metadata": {},
   "source": [
    "#set는 중복값 없애서 출력 \n",
    "fruits.add()"
   ]
  },
  {
   "cell_type": "code",
   "execution_count": 4,
   "id": "33406fa7-2f87-4e27-88a3-2bb6a414df2c",
   "metadata": {},
   "outputs": [
    {
     "name": "stdout",
     "output_type": "stream",
     "text": [
      "{'watermelon', 'banana', 'apple', 'melon'}\n"
     ]
    }
   ],
   "source": [
    "fruits.add('watermelon')\n",
    "print(fruits)"
   ]
  },
  {
   "cell_type": "code",
   "execution_count": 5,
   "id": "b3ee5d9c-4573-452c-9c94-ae4d8ce0bb73",
   "metadata": {},
   "outputs": [],
   "source": [
    "fruits.update({'grape'})"
   ]
  },
  {
   "cell_type": "code",
   "execution_count": 6,
   "id": "97d20b48-d86d-48df-b9fd-ad8a04c51025",
   "metadata": {},
   "outputs": [
    {
     "name": "stdout",
     "output_type": "stream",
     "text": [
      "{'banana', 'melon', 'watermelon', 'grape', 'apple'}\n"
     ]
    }
   ],
   "source": [
    "#여러개는 remove로 삭제하지 못함 "
   ]
  },
  {
   "cell_type": "markdown",
   "id": "4e52d07a-f6b6-4209-adb7-9aef0b79e9a4",
   "metadata": {},
   "source": [
    "## map, filter, zip\n",
    "### map \n",
    "=> 전체적인 범위에 적용할 수 있도록 함 \n",
    "- map(function, iterable)"
   ]
  },
  {
   "cell_type": "markdown",
   "id": "8cf63cfc-6d32-4021-871d-73cc85d8125c",
   "metadata": {},
   "source": [
    "- 반복작업을 편하게 만들음 "
   ]
  },
  {
   "cell_type": "code",
   "execution_count": 11,
   "id": "98d637a8-3099-49a9-9c8f-f4016126114e",
   "metadata": {},
   "outputs": [],
   "source": [
    "numbers = [1, 2, 3, 4, 5]\n",
    "# => numbers를 전부 글자로 만들고 싶음 \n",
    "result = list(map(str, numbers))"
   ]
  },
  {
   "cell_type": "code",
   "execution_count": 12,
   "id": "7ff8bd68-2cd6-42bb-b67f-5440a1fedc3d",
   "metadata": {},
   "outputs": [
    {
     "data": {
      "text/plain": [
       "['1', '2', '3', '4', '5']"
      ]
     },
     "execution_count": 12,
     "metadata": {},
     "output_type": "execute_result"
    }
   ],
   "source": [
    "result"
   ]
  },
  {
   "cell_type": "code",
   "execution_count": 16,
   "id": "efe9f6b0-c703-4a45-8ea5-16ff1146df01",
   "metadata": {},
   "outputs": [],
   "source": [
    "def cube(x):\n",
    "    return x**3"
   ]
  },
  {
   "cell_type": "code",
   "execution_count": 17,
   "id": "612221a4-c280-4107-adfc-c8064b32dc48",
   "metadata": {},
   "outputs": [
    {
     "data": {
      "text/plain": [
       "[1, 8, 27, 64, 125]"
      ]
     },
     "execution_count": 17,
     "metadata": {},
     "output_type": "execute_result"
    }
   ],
   "source": [
    "result = list(map(cube,numbers))\n",
    "result"
   ]
  },
  {
   "cell_type": "code",
   "execution_count": 19,
   "id": "2969f449-ea95-41b0-947e-ea37f4d0b366",
   "metadata": {},
   "outputs": [
    {
     "name": "stdout",
     "output_type": "stream",
     "text": [
      "[1, 3, 5, 7, 9]\n"
     ]
    }
   ],
   "source": [
    "test_input = '1 3 5 7 9'\n",
    "print(list(map(int, test_input.split())))"
   ]
  },
  {
   "cell_type": "markdown",
   "id": "4eae4bca-a550-476f-8913-ebddee0f6bc8",
   "metadata": {},
   "source": [
    "### filter \n",
    "- filter(function. iterable)"
   ]
  },
  {
   "cell_type": "code",
   "execution_count": 23,
   "id": "d40175aa-516d-4234-8c4a-d93d3aea30c1",
   "metadata": {},
   "outputs": [],
   "source": [
    "def is_odd(x):\n",
    "    return x % 2"
   ]
  },
  {
   "cell_type": "code",
   "execution_count": 34,
   "id": "8907d908-d2c8-4723-a6b7-10df5346b065",
   "metadata": {},
   "outputs": [],
   "source": [
    "numbers = [1, 2, 3, 4, 5]"
   ]
  },
  {
   "cell_type": "code",
   "execution_count": 33,
   "id": "e4273c3e-d5b0-4278-8250-6abf13b09e4d",
   "metadata": {},
   "outputs": [
    {
     "name": "stdout",
     "output_type": "stream",
     "text": [
      "[1, 8, 27, 64, 125, 1, 3, 5, 1, 3, 5, 1, 3, 5, 1, 3, 5, 1, 3, 5, 1, 3, 5]\n"
     ]
    }
   ],
   "source": [
    "for number in numbers:\n",
    "    if number % 2:\n",
    "        result.append(number)\n",
    "print(result)"
   ]
  },
  {
   "cell_type": "code",
   "execution_count": 35,
   "id": "7ef56dea-e9e2-477f-ae7a-7bfa4c8fda50",
   "metadata": {},
   "outputs": [
    {
     "name": "stdout",
     "output_type": "stream",
     "text": [
      "[1, 3, 5]\n"
     ]
    }
   ],
   "source": [
    "result = filter(is_odd, numbers)\n",
    "print(list(result))"
   ]
  },
  {
   "cell_type": "code",
   "execution_count": null,
   "id": "8e2dda7b-b1c9-41f1-80ac-8f3f936e7459",
   "metadata": {},
   "outputs": [],
   "source": []
  }
 ],
 "metadata": {
  "kernelspec": {
   "display_name": "Python 3 (ipykernel)",
   "language": "python",
   "name": "python3"
  },
  "language_info": {
   "codemirror_mode": {
    "name": "ipython",
    "version": 3
   },
   "file_extension": ".py",
   "mimetype": "text/x-python",
   "name": "python",
   "nbconvert_exporter": "python",
   "pygments_lexer": "ipython3",
   "version": "3.9.2"
  }
 },
 "nbformat": 4,
 "nbformat_minor": 5
}
